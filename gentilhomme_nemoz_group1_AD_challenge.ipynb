{
 "cells": [
  {
   "cell_type": "markdown",
   "metadata": {},
   "source": [
    "<div class=\"alert alert-block alert-info\">\n",
    "<div class=\"text-center\">\n",
    "    <h2>Algorithmic  Machine Learning</h2><br>\n",
    "    <h4>Challenge - Anomaly Detection</h4><br>\n",
    "    <h4>Tristan NEMOZ | Thomas GENTILHOMME</h4>\n",
    "    </div>\n",
    "<br>\n",
    "This Notebook contains the work of Thomas GENTILHOMME and Tristan NEMOZ about the Anomaly Detection challenge of the AML course (2019) of EURECOM. <br>\n",
    "\n",
    "This challenge aims at detecting data points that do not conform with the rest of observations. <br> We have work on multi-label classifications,  where each check is a binary label corresponding to a specific type of anomaly. We have used 2 differents models : \n",
    "<ul>\n",
    "     <li>The Bayesian Rule Set ;</li>\n",
    "     <li>The Scalable Bayesian Rule List.</li>\n",
    "    </ul>\n",
    "</div>"
   ]
  },
  {
   "cell_type": "markdown",
   "metadata": {},
   "source": [
    "-------------------------------------\n",
    "<div class=\"\">\n",
    "    <h3>0. Notebook setup</h3>\n",
    "</div>"
   ]
  },
  {
   "cell_type": "markdown",
   "metadata": {},
   "source": [
    "<div class=\"\">\n",
    "    <h4>0.1. Loading bootstrap and MathJax</h3>\n",
    "</div>"
   ]
  },
  {
   "cell_type": "markdown",
   "metadata": {},
   "source": [
    "<div class=\"alert alert-block alert-info\">\n",
    "Loading bootstrap allows to display HTML directly in this notebook.\n",
    "</div>"
   ]
  },
  {
   "cell_type": "code",
   "execution_count": 1,
   "metadata": {},
   "outputs": [
    {
     "data": {
      "text/html": [
       "<link rel=\"stylesheet\" href=\"https://maxcdn.bootstrapcdn.com/bootstrap/3.4.0/css/bootstrap.min.css\">\n",
       "<script src=\"https://ajax.googleapis.com/ajax/libs/jquery/3.3.1/jquery.min.js\"></script>\n",
       "<script src=\"https://maxcdn.bootstrapcdn.com/bootstrap/3.4.0/s/bootstrap.min.js\"></script>\n",
       "<script src=’https://cdn.mathjax.org/mathjax/latest/MathJax.js?config=TeX-AMS-MML_HTMLorMML’></script>"
      ],
      "text/plain": [
       "<IPython.core.display.HTML object>"
      ]
     },
     "metadata": {},
     "output_type": "display_data"
    }
   ],
   "source": [
    "from IPython.display import HTML\n",
    "html = '<link rel=\"stylesheet\" href=\"https://maxcdn.bootstrapcdn.com/bootstrap/3.4.0/css/bootstrap.min.css\">\\n' + \\\n",
    "    '<script src=\"https://ajax.googleapis.com/ajax/libs/jquery/3.3.1/jquery.min.js\"></script>\\n' + \\\n",
    "    '<script src=\"https://maxcdn.bootstrapcdn.com/bootstrap/3.4.0/s/bootstrap.min.js\"></script>\\n' + \\\n",
    "    '<script src=’https://cdn.mathjax.org/mathjax/latest/MathJax.js?config=TeX-AMS-MML_HTMLorMML’></script>'\n",
    "\n",
    "display(HTML(html))  # Loading bootstrap"
   ]
  },
  {
   "cell_type": "markdown",
   "metadata": {},
   "source": [
    "<div class=\"\">\n",
    "    <h4>0.2. Libraries</h3>\n",
    "</div>"
   ]
  },
  {
   "cell_type": "markdown",
   "metadata": {},
   "source": [
    "<div class=\"alert alert-block alert-info\">\n",
    "Importing useful libraries for this Notebook.\n",
    "</div>"
   ]
  },
  {
   "cell_type": "code",
   "execution_count": 2,
   "metadata": {},
   "outputs": [],
   "source": [
    "import matplotlib.pyplot as plt\n",
    "import matplotlib\n",
    "import numpy as np\n",
    "import pandas as pd\n",
    "from time import time\n",
    "import seaborn as sns\n",
    "from sklearn.model_selection import train_test_split\n",
    "import warnings\n",
    "from sklearn.metrics import f1_score"
   ]
  },
  {
   "cell_type": "markdown",
   "metadata": {},
   "source": [
    "<div class=\"\">\n",
    "    <h4>0.3. Progress bar</h3>\n",
    "</div>"
   ]
  },
  {
   "cell_type": "markdown",
   "metadata": {},
   "source": [
    "<div class=\"alert alert-block alert-info\">\n",
    "Defining an HTML progress bar to have running information for the longest executions.\n",
    "</div>"
   ]
  },
  {
   "cell_type": "code",
   "execution_count": 3,
   "metadata": {},
   "outputs": [
    {
     "data": {
      "text/html": [
       "<style>.progress {\n",
       "\tposition: relative;\n",
       "}\n",
       "\n",
       ".progress span {\n",
       "\tposition: absolute;\n",
       "\tdisplay: block;\n",
       "\twidth: 100%;\n",
       "\tcolor: black;\n",
       "\tfont-weight: bold;}</style>"
      ],
      "text/plain": [
       "<IPython.core.display.HTML object>"
      ]
     },
     "metadata": {},
     "output_type": "display_data"
    }
   ],
   "source": [
    "from IPython.display import clear_output, HTML\n",
    "\n",
    "class ProgressBar:\n",
    "    def __init__(self, max_progress, bar_length=100):\n",
    "        self.__progress = 0\n",
    "        self.__max_progress = max_progress\n",
    "        self.__bar_length = bar_length\n",
    "    \n",
    "    def start(self):\n",
    "        self.__beginning_time = time()\n",
    "        self.__mean_speeds = []\n",
    "    \n",
    "    def update(self):\n",
    "        self.__progress += 1\n",
    "        progress = self.__bar_length * float(self.__progress) / self.__max_progress\n",
    "        blocks = int(progress)\n",
    "        dashes = self.__bar_length - blocks\n",
    "        clear_output(wait=True)\n",
    "        elapsed_time = time() - self.__beginning_time\n",
    "        mean_speed = self.__progress / elapsed_time\n",
    "        self.__mean_speeds.append(mean_speed)\n",
    "        total_time = self.__max_progress * elapsed_time / self.__progress\n",
    "        html = '<div class=\"progress\">\\n'\n",
    "        html += '\\t<div class=\"progress-bar\" role=\"progressbar\" style=\"width: {0}%\" aria-valuenow=\"{0}\" aria-valuemin=\"0\" aria-valuemax=\"{1}\">'.format(progress, self.__max_progress)\n",
    "        html += '\\n\\t<span>{0:.2f}%\\t({1:.1f}/{2:.1f} seconds)</span>\\n\\t</div>\\n'.format(progress, elapsed_time, total_time)\n",
    "        html += '\\n</div>'\n",
    "        display(HTML(html))\n",
    "        \n",
    "    def plot_results(self):\n",
    "        progresses = np.arange(len(self.__mean_speeds))\n",
    "        plt.figure(figsize=(28, 7))\n",
    "        plt.plot(progresses, self.__mean_speeds)\n",
    "        plt.title(\"Mean speed of the function over time\")\n",
    "        plt.xlabel(\"Number of treated images\")\n",
    "        plt.ylabel(\"Mean speed (in images/second)\")\n",
    "        plt.show()\n",
    "\n",
    "css_custom = '<style>.progress {\\n' + \\\n",
    "    '\\tposition: relative;\\n' + \\\n",
    "'}\\n\\n' + \\\n",
    "'.progress span {\\n' + \\\n",
    "    '\\tposition: absolute;\\n' + \\\n",
    "    '\\tdisplay: block;\\n' + \\\n",
    "    '\\twidth: 100%;\\n' + \\\n",
    "    '\\tcolor: black;\\n' + \\\n",
    "    '\\tfont-weight: bold;' + \\\n",
    "'}</style>'\n",
    "\n",
    "display(HTML(css_custom))"
   ]
  },
  {
   "cell_type": "markdown",
   "metadata": {},
   "source": [
    "<div class=\"\">\n",
    "    <h3>1. Data Exploration</h3>\n",
    "</div>"
   ]
  },
  {
   "cell_type": "markdown",
   "metadata": {},
   "source": [
    "The first broad component of your notebook should enable you to familiarise yourselves with the given data, an outline of which is given at the end of this challenge specification.\n",
    "Among others, this section should investigate:\n",
    "\n",
    "- Data cleaning\n",
    "- Data visualisation;\n",
    "- Computing descriptive statistics, e.g. correlation.\n",
    "- etc.\n",
    "\n",
    "Data exploration is also useful to identify eventual errors in the dataset: for example, some features may have values that are outside the allowed range of values. Ranges are specified in the dataset description."
   ]
  },
  {
   "cell_type": "markdown",
   "metadata": {},
   "source": [
    "<div class=\"alert alert-block alert-info\">\n",
    "First, we load the data and we split the features and the labels into 2 Dataframes. In order to know with what data we are working with, we rename the columns with their real name.\n",
    "</div>"
   ]
  },
  {
   "cell_type": "code",
   "execution_count": 4,
   "metadata": {},
   "outputs": [
    {
     "data": {
      "text/html": [
       "<div>\n",
       "<style scoped>\n",
       "    .dataframe tbody tr th:only-of-type {\n",
       "        vertical-align: middle;\n",
       "    }\n",
       "\n",
       "    .dataframe tbody tr th {\n",
       "        vertical-align: top;\n",
       "    }\n",
       "\n",
       "    .dataframe thead th {\n",
       "        text-align: right;\n",
       "    }\n",
       "</style>\n",
       "<table border=\"1\" class=\"dataframe\">\n",
       "  <thead>\n",
       "    <tr style=\"text-align: right;\">\n",
       "      <th></th>\n",
       "      <th>SessionNumber</th>\n",
       "      <th>SystemID</th>\n",
       "      <th>Date</th>\n",
       "      <th>HighPriorityAlerts</th>\n",
       "      <th>Dumps</th>\n",
       "      <th>CleanupOOMDumps</th>\n",
       "      <th>CompositeOOMDums</th>\n",
       "      <th>IndexServerRestarts</th>\n",
       "      <th>NameServerRestarts</th>\n",
       "      <th>XSEngineRestarts</th>\n",
       "      <th>...</th>\n",
       "      <th>DiagnosisFilesSize</th>\n",
       "      <th>DaysWithSuccessfulDataBackups</th>\n",
       "      <th>DaysWithSuccessfulLogBackups</th>\n",
       "      <th>DaysWithFailedDataBackups</th>\n",
       "      <th>DaysWithFailedfulLogBackups</th>\n",
       "      <th>MinDailyNumberOfSuccessfulDataBackups</th>\n",
       "      <th>MinDailyNumberOfSuccessfulLogBackups</th>\n",
       "      <th>MaxDailyNumberOfFailedDataBackups</th>\n",
       "      <th>MaxDailyNumberOfFailedLogBackups</th>\n",
       "      <th>LogSegmentChange</th>\n",
       "    </tr>\n",
       "  </thead>\n",
       "  <tbody>\n",
       "    <tr>\n",
       "      <th>0</th>\n",
       "      <td>0</td>\n",
       "      <td>0</td>\n",
       "      <td>2017-01-16 04:04:00</td>\n",
       "      <td>1</td>\n",
       "      <td>0.0</td>\n",
       "      <td>0.0</td>\n",
       "      <td>0.0</td>\n",
       "      <td>0</td>\n",
       "      <td>0</td>\n",
       "      <td>0</td>\n",
       "      <td>...</td>\n",
       "      <td>444366335.0</td>\n",
       "      <td>7</td>\n",
       "      <td>8</td>\n",
       "      <td>0</td>\n",
       "      <td>0</td>\n",
       "      <td>1</td>\n",
       "      <td>32</td>\n",
       "      <td>0</td>\n",
       "      <td>0</td>\n",
       "      <td>0.0</td>\n",
       "    </tr>\n",
       "    <tr>\n",
       "      <th>1</th>\n",
       "      <td>1</td>\n",
       "      <td>1</td>\n",
       "      <td>2017-02-06 04:03:00</td>\n",
       "      <td>0</td>\n",
       "      <td>0.0</td>\n",
       "      <td>0.0</td>\n",
       "      <td>0.0</td>\n",
       "      <td>0</td>\n",
       "      <td>0</td>\n",
       "      <td>0</td>\n",
       "      <td>...</td>\n",
       "      <td>227400051.0</td>\n",
       "      <td>3</td>\n",
       "      <td>8</td>\n",
       "      <td>0</td>\n",
       "      <td>0</td>\n",
       "      <td>1</td>\n",
       "      <td>32</td>\n",
       "      <td>0</td>\n",
       "      <td>0</td>\n",
       "      <td>0.0</td>\n",
       "    </tr>\n",
       "    <tr>\n",
       "      <th>2</th>\n",
       "      <td>2</td>\n",
       "      <td>1</td>\n",
       "      <td>2017-02-20 04:03:00</td>\n",
       "      <td>0</td>\n",
       "      <td>0.0</td>\n",
       "      <td>0.0</td>\n",
       "      <td>0.0</td>\n",
       "      <td>0</td>\n",
       "      <td>0</td>\n",
       "      <td>0</td>\n",
       "      <td>...</td>\n",
       "      <td>234913753.0</td>\n",
       "      <td>3</td>\n",
       "      <td>8</td>\n",
       "      <td>0</td>\n",
       "      <td>0</td>\n",
       "      <td>1</td>\n",
       "      <td>32</td>\n",
       "      <td>0</td>\n",
       "      <td>0</td>\n",
       "      <td>0.0</td>\n",
       "    </tr>\n",
       "    <tr>\n",
       "      <th>3</th>\n",
       "      <td>3</td>\n",
       "      <td>2</td>\n",
       "      <td>2017-02-13 04:44:00</td>\n",
       "      <td>1</td>\n",
       "      <td>0.0</td>\n",
       "      <td>0.0</td>\n",
       "      <td>0.0</td>\n",
       "      <td>0</td>\n",
       "      <td>0</td>\n",
       "      <td>0</td>\n",
       "      <td>...</td>\n",
       "      <td>511053878.0</td>\n",
       "      <td>7</td>\n",
       "      <td>8</td>\n",
       "      <td>0</td>\n",
       "      <td>0</td>\n",
       "      <td>1</td>\n",
       "      <td>38</td>\n",
       "      <td>0</td>\n",
       "      <td>0</td>\n",
       "      <td>0.0</td>\n",
       "    </tr>\n",
       "    <tr>\n",
       "      <th>4</th>\n",
       "      <td>4</td>\n",
       "      <td>3</td>\n",
       "      <td>2017-02-06 04:31:00</td>\n",
       "      <td>1</td>\n",
       "      <td>0.0</td>\n",
       "      <td>0.0</td>\n",
       "      <td>0.0</td>\n",
       "      <td>0</td>\n",
       "      <td>0</td>\n",
       "      <td>0</td>\n",
       "      <td>...</td>\n",
       "      <td>172953445.0</td>\n",
       "      <td>7</td>\n",
       "      <td>8</td>\n",
       "      <td>0</td>\n",
       "      <td>0</td>\n",
       "      <td>1</td>\n",
       "      <td>5</td>\n",
       "      <td>0</td>\n",
       "      <td>0</td>\n",
       "      <td>0.0</td>\n",
       "    </tr>\n",
       "  </tbody>\n",
       "</table>\n",
       "<p>5 rows × 36 columns</p>\n",
       "</div>"
      ],
      "text/plain": [
       "   SessionNumber  SystemID                Date  HighPriorityAlerts  Dumps  \\\n",
       "0              0         0 2017-01-16 04:04:00                   1    0.0   \n",
       "1              1         1 2017-02-06 04:03:00                   0    0.0   \n",
       "2              2         1 2017-02-20 04:03:00                   0    0.0   \n",
       "3              3         2 2017-02-13 04:44:00                   1    0.0   \n",
       "4              4         3 2017-02-06 04:31:00                   1    0.0   \n",
       "\n",
       "   CleanupOOMDumps  CompositeOOMDums  IndexServerRestarts  NameServerRestarts  \\\n",
       "0              0.0               0.0                    0                   0   \n",
       "1              0.0               0.0                    0                   0   \n",
       "2              0.0               0.0                    0                   0   \n",
       "3              0.0               0.0                    0                   0   \n",
       "4              0.0               0.0                    0                   0   \n",
       "\n",
       "   XSEngineRestarts        ...         DiagnosisFilesSize  \\\n",
       "0                 0        ...                444366335.0   \n",
       "1                 0        ...                227400051.0   \n",
       "2                 0        ...                234913753.0   \n",
       "3                 0        ...                511053878.0   \n",
       "4                 0        ...                172953445.0   \n",
       "\n",
       "   DaysWithSuccessfulDataBackups  DaysWithSuccessfulLogBackups  \\\n",
       "0                              7                             8   \n",
       "1                              3                             8   \n",
       "2                              3                             8   \n",
       "3                              7                             8   \n",
       "4                              7                             8   \n",
       "\n",
       "   DaysWithFailedDataBackups  DaysWithFailedfulLogBackups  \\\n",
       "0                          0                            0   \n",
       "1                          0                            0   \n",
       "2                          0                            0   \n",
       "3                          0                            0   \n",
       "4                          0                            0   \n",
       "\n",
       "   MinDailyNumberOfSuccessfulDataBackups  \\\n",
       "0                                      1   \n",
       "1                                      1   \n",
       "2                                      1   \n",
       "3                                      1   \n",
       "4                                      1   \n",
       "\n",
       "   MinDailyNumberOfSuccessfulLogBackups  MaxDailyNumberOfFailedDataBackups  \\\n",
       "0                                    32                                  0   \n",
       "1                                    32                                  0   \n",
       "2                                    32                                  0   \n",
       "3                                    38                                  0   \n",
       "4                                     5                                  0   \n",
       "\n",
       "   MaxDailyNumberOfFailedLogBackups  LogSegmentChange  \n",
       "0                                 0               0.0  \n",
       "1                                 0               0.0  \n",
       "2                                 0               0.0  \n",
       "3                                 0               0.0  \n",
       "4                                 0               0.0  \n",
       "\n",
       "[5 rows x 36 columns]"
      ]
     },
     "metadata": {},
     "output_type": "display_data"
    },
    {
     "data": {
      "text/html": [
       "<div>\n",
       "<style scoped>\n",
       "    .dataframe tbody tr th:only-of-type {\n",
       "        vertical-align: middle;\n",
       "    }\n",
       "\n",
       "    .dataframe tbody tr th {\n",
       "        vertical-align: top;\n",
       "    }\n",
       "\n",
       "    .dataframe thead th {\n",
       "        text-align: right;\n",
       "    }\n",
       "</style>\n",
       "<table border=\"1\" class=\"dataframe\">\n",
       "  <thead>\n",
       "    <tr style=\"text-align: right;\">\n",
       "      <th></th>\n",
       "      <th>Check1</th>\n",
       "      <th>Check2</th>\n",
       "      <th>Check3</th>\n",
       "      <th>Check4</th>\n",
       "      <th>Check5</th>\n",
       "      <th>Check6</th>\n",
       "      <th>Check7</th>\n",
       "      <th>Check8</th>\n",
       "    </tr>\n",
       "  </thead>\n",
       "  <tbody>\n",
       "    <tr>\n",
       "      <th>0</th>\n",
       "      <td>0.0</td>\n",
       "      <td>0.0</td>\n",
       "      <td>0.0</td>\n",
       "      <td>NaN</td>\n",
       "      <td>NaN</td>\n",
       "      <td>0.0</td>\n",
       "      <td>0.0</td>\n",
       "      <td>0.0</td>\n",
       "    </tr>\n",
       "    <tr>\n",
       "      <th>1</th>\n",
       "      <td>0.0</td>\n",
       "      <td>0.0</td>\n",
       "      <td>0.0</td>\n",
       "      <td>NaN</td>\n",
       "      <td>NaN</td>\n",
       "      <td>0.0</td>\n",
       "      <td>0.0</td>\n",
       "      <td>0.0</td>\n",
       "    </tr>\n",
       "    <tr>\n",
       "      <th>2</th>\n",
       "      <td>0.0</td>\n",
       "      <td>0.0</td>\n",
       "      <td>0.0</td>\n",
       "      <td>NaN</td>\n",
       "      <td>NaN</td>\n",
       "      <td>0.0</td>\n",
       "      <td>0.0</td>\n",
       "      <td>0.0</td>\n",
       "    </tr>\n",
       "    <tr>\n",
       "      <th>3</th>\n",
       "      <td>0.0</td>\n",
       "      <td>0.0</td>\n",
       "      <td>0.0</td>\n",
       "      <td>NaN</td>\n",
       "      <td>NaN</td>\n",
       "      <td>0.0</td>\n",
       "      <td>0.0</td>\n",
       "      <td>0.0</td>\n",
       "    </tr>\n",
       "    <tr>\n",
       "      <th>4</th>\n",
       "      <td>0.0</td>\n",
       "      <td>0.0</td>\n",
       "      <td>0.0</td>\n",
       "      <td>NaN</td>\n",
       "      <td>NaN</td>\n",
       "      <td>0.0</td>\n",
       "      <td>0.0</td>\n",
       "      <td>0.0</td>\n",
       "    </tr>\n",
       "  </tbody>\n",
       "</table>\n",
       "</div>"
      ],
      "text/plain": [
       "   Check1  Check2  Check3  Check4  Check5  Check6  Check7  Check8\n",
       "0     0.0     0.0     0.0     NaN     NaN     0.0     0.0     0.0\n",
       "1     0.0     0.0     0.0     NaN     NaN     0.0     0.0     0.0\n",
       "2     0.0     0.0     0.0     NaN     NaN     0.0     0.0     0.0\n",
       "3     0.0     0.0     0.0     NaN     NaN     0.0     0.0     0.0\n",
       "4     0.0     0.0     0.0     NaN     NaN     0.0     0.0     0.0"
      ]
     },
     "metadata": {},
     "output_type": "display_data"
    }
   ],
   "source": [
    "base = \"/mnt/datasets/anomaly/\"\n",
    "\n",
    "dataset = pd.read_csv(base + \"data.csv\",\n",
    "                      sep=';',\n",
    "                      header=None,\n",
    "                      names=[\"SessionNumber\", \"SystemID\", \"Date\", \"HighPriorityAlerts\", \"Dumps\", \"CleanupOOMDumps\", \"CompositeOOMDums\", \n",
    "                              \"IndexServerRestarts\", \"NameServerRestarts\", \"XSEngineRestarts\", \"PreprocessorRestarts\", \"DaemonRestarts\", \n",
    "                              \"StatisticsServerRestarts\", \"CPU\", \"PhysMEM\",  \"InstanceMEM\", \"TablesAllocation\", \"IndexServerAllocationLimit\",\n",
    "                              \"ColumnUnloads\", \"DeltaSize\", \"MergeErrors\", \"BlockingPhaseSec\", \"Disk\", \"LargestTableSize\", \"LargestPartitionSize\",\n",
    "                              \"DiagnosisFiles\", \"DiagnosisFilesSize\", \"DaysWithSuccessfulDataBackups\", \"DaysWithSuccessfulLogBackups\",\n",
    "                              \"DaysWithFailedDataBackups\", \"DaysWithFailedfulLogBackups\", \"MinDailyNumberOfSuccessfulDataBackups\",\n",
    "                              \"MinDailyNumberOfSuccessfulLogBackups\", \"MaxDailyNumberOfFailedDataBackups\", \"MaxDailyNumberOfFailedLogBackups\", \n",
    "                              \"LogSegmentChange\", \"Check1\", \"Check2\", \"Check3\", \"Check4\", \"Check5\", \"Check6\", \"Check7\", \"Check8\"],\n",
    "                      parse_dates=['Date'],\n",
    "                      date_parser=lambda date: pd.to_datetime(date, infer_datetime_format=True)\n",
    ")\n",
    "\n",
    "features = pd.DataFrame()\n",
    "labels = pd.DataFrame()\n",
    "\n",
    "features = dataset.iloc[: , 0:36]\n",
    "labels = dataset.iloc[: , 36:]\n",
    "\n",
    "display(features[:5])\n",
    "display(labels[:5])\n",
    "\n",
    "LENGTH=dataset['SessionNumber'].count()"
   ]
  },
  {
   "cell_type": "markdown",
   "metadata": {},
   "source": [
    "<div class=\"alert alert-block alert-info\">\n",
    "Visualisation of some datas\n",
    "</div>"
   ]
  },
  {
   "cell_type": "code",
   "execution_count": 5,
   "metadata": {},
   "outputs": [
    {
     "data": {
      "image/png": "[encoded data removed]",
      "text/plain": [
       "<Figure size 2016x504 with 1 Axes>"
      ]
     },
     "metadata": {},
     "output_type": "display_data"
    },
    {
     "data": {
      "text/html": [
       " <div class='alert alert-block alert-success'> Average number of high priority alerts per data : <b>2.80</b></div> "
      ],
      "text/plain": [
       "<IPython.core.display.HTML object>"
      ]
     },
     "metadata": {},
     "output_type": "display_data"
    }
   ],
   "source": [
    "## HIGH PRIORITY ALERTS\n",
    "topN = 10\n",
    "high_priority_alerts_sessions = features[['SessionNumber','HighPriorityAlerts']].sort_values('HighPriorityAlerts',ascending=False)[:topN]\n",
    "\n",
    "fig, ax = plt.subplots(figsize=(28, 7))\n",
    "high_priority_alerts_sessions['HighPriorityAlerts'].plot(kind='barh', ax=ax)\n",
    "ax.set_xlabel('Number of high priority alerts')\n",
    "ax.set_yticklabels(high_priority_alerts_sessions['SessionNumber'])\n",
    "ax.set_title('Top-10 Session with highest number of high priority alerts', fontsize=25)\n",
    "\n",
    "plt.show()\n",
    "html = \" <div class='alert alert-block alert-success'> \" + \\\n",
    "\"Average number of high priority alerts per data : <b>{0:.2f}</b>\".format(features['HighPriorityAlerts'].mean()) + \\\n",
    "\"</div> \"\n",
    "display(HTML(html))"
   ]
  },
  {
   "cell_type": "markdown",
   "metadata": {},
   "source": [
    "<div class=\"alert alert-block alert-info\">\n",
    "    Let's see what is the proportion of session with 8 <i>NaN</i> checks. These sessions don't carry anny information as they are not labelized.\n",
    "</div>"
   ]
  },
  {
   "cell_type": "code",
   "execution_count": 6,
   "metadata": {},
   "outputs": [
    {
     "data": {
      "text/html": [
       " <div class='alert alert-block alert-success'> The proportion of session with 8 NaNs Checks is : <b>0.02%</b>. It corresponds to <b>52</b> sessions that are not at all labelized.</div> "
      ],
      "text/plain": [
       "<IPython.core.display.HTML object>"
      ]
     },
     "metadata": {},
     "output_type": "display_data"
    }
   ],
   "source": [
    "count_na=len(labels[labels[['Check1', 'Check2', 'Check3', 'Check4', 'Check5', 'Check6', 'Check7', 'Check8']].isna().all(axis=1)])\n",
    "html = \" <div class='alert alert-block alert-success'> \" + \\\n",
    "\"The proportion of session with 8 NaNs Checks is : <b>{0:.2f}%</b>\".format(count_na/len(dataset[['SessionNumber']].values)*100) + \\\n",
    "\". It corresponds to <b>\" + str(count_na) + \"</b> sessions that are not at all labelized.\" + \"</div> \"\n",
    "display(HTML(html))"
   ]
  },
  {
   "cell_type": "markdown",
   "metadata": {},
   "source": [
    "<div class=\"alert alert-block alert-info\">\n",
    "    Let's see the proportion of <i>0</i>, <i>1</i> and <i>NaNs</i> in the different labels:\n",
    "</div>"
   ]
  },
  {
   "cell_type": "code",
   "execution_count": 7,
   "metadata": {},
   "outputs": [
    {
     "data": {
      "image/png": "[encoded data removed]",
      "text/plain": [
       "<Figure size 1728x180 with 8 Axes>"
      ]
     },
     "metadata": {},
     "output_type": "display_data"
    }
   ],
   "source": [
    "total=len(labels['Check1'].values)\n",
    "\n",
    "fig = plt.figure(figsize=(24,2.5))\n",
    "\n",
    "for i in range(1,9):\n",
    "    labels_grouped=labels.groupby('Check'+str(i), as_index=False).size().reset_index().rename(columns={0:'Number'})\n",
    "    labels_grouped = labels_grouped.append({'Check'+str(i) : 'NaN' , 'Number' : total-labels_grouped['Number'].values.sum()}, ignore_index=True)\n",
    "    \n",
    "    explode = [0] * len(labels_grouped)\n",
    "    nan_index = labels_grouped[labels_grouped['Check'+str(i)] == 'NaN'].index[0]\n",
    "    explode[nan_index] = 0.2\n",
    "    ax1 = plt.subplot2grid((1,8), (0, i-1))\n",
    "    plt.pie(labels_grouped.Number ,colors=(\"g\",\"r\",\"b\"), explode=explode, autopct='%1.1f%%')\n",
    "    plt.title('Check'+str(i))\n",
    "    centre_circle = plt.Circle((0,0),0.70,fc='white')\n",
    "    fig = plt.gcf()\n",
    "    plt.legend(labels_grouped['Check'+str(i)], loc='center', fontsize=8)\n",
    "    fig.gca().add_artist(centre_circle)\n",
    "\n",
    "plt.show()"
   ]
  },
  {
   "cell_type": "markdown",
   "metadata": {},
   "source": [
    "<div class=\"alert alert-block alert-success\">\n",
    "What is interesting here is that some checks, like 6 and 4, are \"often\" called so we can assumed that they are lined to \"low level anomalies\" whereas checks 1, 5 and 6 are probably linked to \"high level anomalies\". Also, we can see that check 8 doesn't own (or very few) <i>NaN</i> values so we can assumed that every sessions is concerned by check8.\n",
    "</div>"
   ]
  },
  {
   "cell_type": "markdown",
   "metadata": {},
   "source": [
    "<div class=\"alert alert-block alert-info\">\n",
    "    We can have more detailed information by displaying the number of <i>NaNs</i> in the labels:\n",
    "</div>"
   ]
  },
  {
   "cell_type": "code",
   "execution_count": 8,
   "metadata": {},
   "outputs": [
    {
     "data": {
      "text/html": [
       "<div>\n",
       "<style scoped>\n",
       "    .dataframe tbody tr th:only-of-type {\n",
       "        vertical-align: middle;\n",
       "    }\n",
       "\n",
       "    .dataframe tbody tr th {\n",
       "        vertical-align: top;\n",
       "    }\n",
       "\n",
       "    .dataframe thead th {\n",
       "        text-align: right;\n",
       "    }\n",
       "</style>\n",
       "<table border=\"1\" class=\"dataframe\">\n",
       "  <thead>\n",
       "    <tr style=\"text-align: right;\">\n",
       "      <th></th>\n",
       "      <th>Series</th>\n",
       "      <th>NaNs number</th>\n",
       "    </tr>\n",
       "  </thead>\n",
       "  <tbody>\n",
       "    <tr>\n",
       "      <th>0</th>\n",
       "      <td>Check1</td>\n",
       "      <td>24511</td>\n",
       "    </tr>\n",
       "    <tr>\n",
       "      <th>1</th>\n",
       "      <td>Check2</td>\n",
       "      <td>24486</td>\n",
       "    </tr>\n",
       "    <tr>\n",
       "      <th>2</th>\n",
       "      <td>Check3</td>\n",
       "      <td>22568</td>\n",
       "    </tr>\n",
       "    <tr>\n",
       "      <th>3</th>\n",
       "      <td>Check4</td>\n",
       "      <td>36647</td>\n",
       "    </tr>\n",
       "    <tr>\n",
       "      <th>4</th>\n",
       "      <td>Check5</td>\n",
       "      <td>35034</td>\n",
       "    </tr>\n",
       "    <tr>\n",
       "      <th>5</th>\n",
       "      <td>Check6</td>\n",
       "      <td>7384</td>\n",
       "    </tr>\n",
       "    <tr>\n",
       "      <th>6</th>\n",
       "      <td>Check7</td>\n",
       "      <td>35722</td>\n",
       "    </tr>\n",
       "    <tr>\n",
       "      <th>7</th>\n",
       "      <td>Check8</td>\n",
       "      <td>52</td>\n",
       "    </tr>\n",
       "  </tbody>\n",
       "</table>\n",
       "</div>"
      ],
      "text/plain": [
       "   Series NaNs number\n",
       "0  Check1       24511\n",
       "1  Check2       24486\n",
       "2  Check3       22568\n",
       "3  Check4       36647\n",
       "4  Check5       35034\n",
       "5  Check6        7384\n",
       "6  Check7       35722\n",
       "7  Check8          52"
      ]
     },
     "metadata": {},
     "output_type": "display_data"
    }
   ],
   "source": [
    "count_nans = pd.DataFrame(columns=['Series', 'NaNs number'])\n",
    "\n",
    "for column in labels:\n",
    "    counter = {'Series': column}\n",
    "    counter['NaNs number'] = labels[column].isna().sum()\n",
    "    count_nans = count_nans.append(counter, ignore_index=True)\n",
    "\n",
    "display(count_nans)"
   ]
  },
  {
   "cell_type": "markdown",
   "metadata": {},
   "source": [
    "<div class=\"alert alert-block alert-info\">\n",
    "    Let's see what is the proportion of sessions who own a <i>NaN</i>:\n",
    "</div>"
   ]
  },
  {
   "cell_type": "code",
   "execution_count": 9,
   "metadata": {},
   "outputs": [
    {
     "data": {
      "text/html": [
       " <div class='alert alert-block alert-success'> The proportion of session with <i>NaN(s)</i> in his features is : <b>68.42%</b></div> "
      ],
      "text/plain": [
       "<IPython.core.display.HTML object>"
      ]
     },
     "metadata": {},
     "output_type": "display_data"
    }
   ],
   "source": [
    "nb_nans=features.dropna()['SessionNumber'].count()\n",
    "prop_nans=(nb_nans/features['SessionNumber'].count())*100\n",
    "html = \" <div class='alert alert-block alert-success'> \" + \\\n",
    "\"The proportion of session with <i>NaN(s)</i> in his features is : <b>{0:.2f}%</b>\".format(prop_nans) + \\\n",
    "\"</div> \"\n",
    "display(HTML(html))"
   ]
  },
  {
   "cell_type": "markdown",
   "metadata": {},
   "source": [
    "<div class=\"alert alert-block alert-info\">\n",
    "    We can have more detailed information by displaying the number of <i>NaNs</i> in each features:\n",
    "</div>"
   ]
  },
  {
   "cell_type": "code",
   "execution_count": 10,
   "metadata": {},
   "outputs": [
    {
     "data": {
      "text/html": [
       "<div>\n",
       "<style scoped>\n",
       "    .dataframe tbody tr th:only-of-type {\n",
       "        vertical-align: middle;\n",
       "    }\n",
       "\n",
       "    .dataframe tbody tr th {\n",
       "        vertical-align: top;\n",
       "    }\n",
       "\n",
       "    .dataframe thead th {\n",
       "        text-align: right;\n",
       "    }\n",
       "</style>\n",
       "<table border=\"1\" class=\"dataframe\">\n",
       "  <thead>\n",
       "    <tr style=\"text-align: right;\">\n",
       "      <th></th>\n",
       "      <th>Series</th>\n",
       "      <th>NaNs number</th>\n",
       "    </tr>\n",
       "  </thead>\n",
       "  <tbody>\n",
       "    <tr>\n",
       "      <th>0</th>\n",
       "      <td>SessionNumber</td>\n",
       "      <td>0</td>\n",
       "    </tr>\n",
       "    <tr>\n",
       "      <th>1</th>\n",
       "      <td>SystemID</td>\n",
       "      <td>0</td>\n",
       "    </tr>\n",
       "    <tr>\n",
       "      <th>2</th>\n",
       "      <td>Date</td>\n",
       "      <td>0</td>\n",
       "    </tr>\n",
       "    <tr>\n",
       "      <th>3</th>\n",
       "      <td>HighPriorityAlerts</td>\n",
       "      <td>0</td>\n",
       "    </tr>\n",
       "    <tr>\n",
       "      <th>4</th>\n",
       "      <td>Dumps</td>\n",
       "      <td>3</td>\n",
       "    </tr>\n",
       "    <tr>\n",
       "      <th>5</th>\n",
       "      <td>CleanupOOMDumps</td>\n",
       "      <td>3</td>\n",
       "    </tr>\n",
       "    <tr>\n",
       "      <th>6</th>\n",
       "      <td>CompositeOOMDums</td>\n",
       "      <td>3</td>\n",
       "    </tr>\n",
       "    <tr>\n",
       "      <th>7</th>\n",
       "      <td>IndexServerRestarts</td>\n",
       "      <td>0</td>\n",
       "    </tr>\n",
       "    <tr>\n",
       "      <th>8</th>\n",
       "      <td>NameServerRestarts</td>\n",
       "      <td>0</td>\n",
       "    </tr>\n",
       "    <tr>\n",
       "      <th>9</th>\n",
       "      <td>XSEngineRestarts</td>\n",
       "      <td>0</td>\n",
       "    </tr>\n",
       "    <tr>\n",
       "      <th>10</th>\n",
       "      <td>PreprocessorRestarts</td>\n",
       "      <td>0</td>\n",
       "    </tr>\n",
       "    <tr>\n",
       "      <th>11</th>\n",
       "      <td>DaemonRestarts</td>\n",
       "      <td>0</td>\n",
       "    </tr>\n",
       "    <tr>\n",
       "      <th>12</th>\n",
       "      <td>StatisticsServerRestarts</td>\n",
       "      <td>0</td>\n",
       "    </tr>\n",
       "    <tr>\n",
       "      <th>13</th>\n",
       "      <td>CPU</td>\n",
       "      <td>25209</td>\n",
       "    </tr>\n",
       "    <tr>\n",
       "      <th>14</th>\n",
       "      <td>PhysMEM</td>\n",
       "      <td>20567</td>\n",
       "    </tr>\n",
       "    <tr>\n",
       "      <th>15</th>\n",
       "      <td>InstanceMEM</td>\n",
       "      <td>22117</td>\n",
       "    </tr>\n",
       "    <tr>\n",
       "      <th>16</th>\n",
       "      <td>TablesAllocation</td>\n",
       "      <td>2290</td>\n",
       "    </tr>\n",
       "    <tr>\n",
       "      <th>17</th>\n",
       "      <td>IndexServerAllocationLimit</td>\n",
       "      <td>26444</td>\n",
       "    </tr>\n",
       "    <tr>\n",
       "      <th>18</th>\n",
       "      <td>ColumnUnloads</td>\n",
       "      <td>0</td>\n",
       "    </tr>\n",
       "    <tr>\n",
       "      <th>19</th>\n",
       "      <td>DeltaSize</td>\n",
       "      <td>206</td>\n",
       "    </tr>\n",
       "    <tr>\n",
       "      <th>20</th>\n",
       "      <td>MergeErrors</td>\n",
       "      <td>7733</td>\n",
       "    </tr>\n",
       "    <tr>\n",
       "      <th>21</th>\n",
       "      <td>BlockingPhaseSec</td>\n",
       "      <td>75854</td>\n",
       "    </tr>\n",
       "    <tr>\n",
       "      <th>22</th>\n",
       "      <td>Disk</td>\n",
       "      <td>11379</td>\n",
       "    </tr>\n",
       "    <tr>\n",
       "      <th>23</th>\n",
       "      <td>LargestTableSize</td>\n",
       "      <td>16250</td>\n",
       "    </tr>\n",
       "    <tr>\n",
       "      <th>24</th>\n",
       "      <td>LargestPartitionSize</td>\n",
       "      <td>150</td>\n",
       "    </tr>\n",
       "    <tr>\n",
       "      <th>25</th>\n",
       "      <td>DiagnosisFiles</td>\n",
       "      <td>21923</td>\n",
       "    </tr>\n",
       "    <tr>\n",
       "      <th>26</th>\n",
       "      <td>DiagnosisFilesSize</td>\n",
       "      <td>21923</td>\n",
       "    </tr>\n",
       "    <tr>\n",
       "      <th>27</th>\n",
       "      <td>DaysWithSuccessfulDataBackups</td>\n",
       "      <td>0</td>\n",
       "    </tr>\n",
       "    <tr>\n",
       "      <th>28</th>\n",
       "      <td>DaysWithSuccessfulLogBackups</td>\n",
       "      <td>0</td>\n",
       "    </tr>\n",
       "    <tr>\n",
       "      <th>29</th>\n",
       "      <td>DaysWithFailedDataBackups</td>\n",
       "      <td>0</td>\n",
       "    </tr>\n",
       "    <tr>\n",
       "      <th>30</th>\n",
       "      <td>DaysWithFailedfulLogBackups</td>\n",
       "      <td>0</td>\n",
       "    </tr>\n",
       "    <tr>\n",
       "      <th>31</th>\n",
       "      <td>MinDailyNumberOfSuccessfulDataBackups</td>\n",
       "      <td>0</td>\n",
       "    </tr>\n",
       "    <tr>\n",
       "      <th>32</th>\n",
       "      <td>MinDailyNumberOfSuccessfulLogBackups</td>\n",
       "      <td>0</td>\n",
       "    </tr>\n",
       "    <tr>\n",
       "      <th>33</th>\n",
       "      <td>MaxDailyNumberOfFailedDataBackups</td>\n",
       "      <td>0</td>\n",
       "    </tr>\n",
       "    <tr>\n",
       "      <th>34</th>\n",
       "      <td>MaxDailyNumberOfFailedLogBackups</td>\n",
       "      <td>0</td>\n",
       "    </tr>\n",
       "    <tr>\n",
       "      <th>35</th>\n",
       "      <td>LogSegmentChange</td>\n",
       "      <td>35549</td>\n",
       "    </tr>\n",
       "  </tbody>\n",
       "</table>\n",
       "</div>"
      ],
      "text/plain": [
       "                                   Series NaNs number\n",
       "0                           SessionNumber           0\n",
       "1                                SystemID           0\n",
       "2                                    Date           0\n",
       "3                      HighPriorityAlerts           0\n",
       "4                                   Dumps           3\n",
       "5                         CleanupOOMDumps           3\n",
       "6                        CompositeOOMDums           3\n",
       "7                     IndexServerRestarts           0\n",
       "8                      NameServerRestarts           0\n",
       "9                        XSEngineRestarts           0\n",
       "10                   PreprocessorRestarts           0\n",
       "11                         DaemonRestarts           0\n",
       "12               StatisticsServerRestarts           0\n",
       "13                                    CPU       25209\n",
       "14                                PhysMEM       20567\n",
       "15                            InstanceMEM       22117\n",
       "16                       TablesAllocation        2290\n",
       "17             IndexServerAllocationLimit       26444\n",
       "18                          ColumnUnloads           0\n",
       "19                              DeltaSize         206\n",
       "20                            MergeErrors        7733\n",
       "21                       BlockingPhaseSec       75854\n",
       "22                                   Disk       11379\n",
       "23                       LargestTableSize       16250\n",
       "24                   LargestPartitionSize         150\n",
       "25                         DiagnosisFiles       21923\n",
       "26                     DiagnosisFilesSize       21923\n",
       "27          DaysWithSuccessfulDataBackups           0\n",
       "28           DaysWithSuccessfulLogBackups           0\n",
       "29              DaysWithFailedDataBackups           0\n",
       "30            DaysWithFailedfulLogBackups           0\n",
       "31  MinDailyNumberOfSuccessfulDataBackups           0\n",
       "32   MinDailyNumberOfSuccessfulLogBackups           0\n",
       "33      MaxDailyNumberOfFailedDataBackups           0\n",
       "34       MaxDailyNumberOfFailedLogBackups           0\n",
       "35                       LogSegmentChange       35549"
      ]
     },
     "metadata": {},
     "output_type": "display_data"
    }
   ],
   "source": [
    "count_nans = pd.DataFrame(columns=['Series', 'NaNs number'])\n",
    "\n",
    "for column in features:\n",
    "    counter = {'Series': column}\n",
    "    counter['NaNs number'] = features[column].isna().sum()\n",
    "    count_nans = count_nans.append(counter, ignore_index=True)\n",
    "\n",
    "display(count_nans)"
   ]
  },
  {
   "cell_type": "markdown",
   "metadata": {},
   "source": [
    "<div class=\"alert alert-block alert-info\">\n",
    "    We can see that 17 features, which is almost a half of the total number of features, own <i>NaN</i> values.\n",
    "</div>"
   ]
  },
  {
   "cell_type": "markdown",
   "metadata": {},
   "source": [
    "<div class=\"alert alert-block alert-info\">\n",
    "Now, we can display the 4 most correlated features with each labels.\n",
    "</div>"
   ]
  },
  {
   "cell_type": "code",
   "execution_count": 11,
   "metadata": {},
   "outputs": [
    {
     "data": {
      "image/png": "[encoded data removed]",
      "text/plain": [
       "<Figure size 1296x1944 with 16 Axes>"
      ]
     },
     "metadata": {},
     "output_type": "display_data"
    }
   ],
   "source": [
    "total=len(labels['Check1'].values)\n",
    "\n",
    "fig = plt.figure(figsize=(18, 27))\n",
    "\n",
    "\n",
    "for i in range(1, 9):\n",
    "    corr_features = features.copy(deep=True)\n",
    "    \n",
    "    corr_features.drop(['Date'], axis=1, inplace=True)\n",
    "    corr_features.drop(['CleanupOOMDumps'], axis=1, inplace=True)\n",
    "    corr_features.drop(['PreprocessorRestarts'], axis=1, inplace=True)\n",
    "    corr_features.drop(['DaemonRestarts'], axis=1, inplace=True)\n",
    "        #because Date is a string and the 3 others names are series of zeros only\n",
    "    corrs_dict = {}\n",
    "    corrs = []\n",
    "    for names in list(corr_features)[:]:\n",
    "\n",
    "        corr = labels['Check'+str(i)].corr(corr_features[names])\n",
    "        corrs.append(np.abs(corr))\n",
    "        corrs_dict[np.abs(corr)]=names\n",
    "\n",
    "        '''\n",
    "        if np.abs(corr) < 0.4:\n",
    "            corr_features.drop([names], axis=1, inplace=True)\n",
    "        '''\n",
    "    corrs.sort()\n",
    "    col1=corrs_dict[corrs[-4]]\n",
    "    col2=corrs_dict[corrs[-3]]\n",
    "    col3=corrs_dict[corrs[-2]]\n",
    "    col4=corrs_dict[corrs[-1]]\n",
    "\n",
    "    for names in list(corr_features)[:]:\n",
    "        if names != col1 and names != col2 and names != col3 and names != col4:\n",
    "            corr_features.drop([names], axis=1, inplace=True)  # To keep only the 4 columns with the highest correlations\n",
    "    \n",
    "    corr_features['Check'+str(i)] = labels['Check'+str(i)]\n",
    "    \n",
    "    corr = corr_features.corr()\n",
    "    plt.subplot(4, 2, i)\n",
    "    sns.heatmap(corr, annot=True, linewidth=.5)\n",
    "    \n",
    "plt.show()"
   ]
  },
  {
   "cell_type": "markdown",
   "metadata": {},
   "source": [
    "<div class=\"alert alert-block alert-success\">\n",
    "We can see above that there are not clear and huge correlations between the labels and the features. Nevertheless, we can see that there are some interesting correlations betwenn Check4 and <b>HighPriorityAlerts</b>, <b>InstanceMEM</b>, <b>TablesAllocation</b>, <b>IndexServerAllocationLimit</b>.\n",
    "</div>\n"
   ]
  },
  {
   "cell_type": "markdown",
   "metadata": {},
   "source": [
    "<div class=\"\">\n",
    "    <h3>2. Data Pre-processing</h3>\n",
    "</div>"
   ]
  },
  {
   "cell_type": "markdown",
   "metadata": {},
   "source": [
    "The previous step should give you a better understanding of which pre-processing is required for the data.\n",
    "This may include:\n",
    "\n",
    "- Normalising and standardising the given data;\n",
    "- Removing outliers;\n",
    "- Carrying out feature selection;\n",
    "- Handling missing information in the dataset;\n",
    "- Handling errors in the dataset;\n",
    "- Combining existing features."
   ]
  },
  {
   "cell_type": "markdown",
   "metadata": {},
   "source": [
    "<div class=\"alert alert-block alert-info\">\n",
    "    <h3>Handling missing information in the dataset</h3>\n",
    "</div>\n",
    "<div class=\"alert alert-block alert-info\">\n",
    "    In this dataset, we have 3 columns with that are series of zero and the <b>Date</b> feature that doesn't give any interesting information.\n",
    "</div>"
   ]
  },
  {
   "cell_type": "code",
   "execution_count": 12,
   "metadata": {},
   "outputs": [],
   "source": [
    "dataset.drop(['Date'], axis=1, inplace=True)\n",
    "dataset.drop(['CleanupOOMDumps'], axis=1, inplace=True)\n",
    "dataset.drop(['PreprocessorRestarts'], axis=1, inplace=True)\n",
    "dataset.drop(['DaemonRestarts'], axis=1, inplace=True)"
   ]
  },
  {
   "cell_type": "markdown",
   "metadata": {},
   "source": [
    "<div class=\"alert alert-block alert-info\">\n",
    "    In this dataset, there are also a lot of <i>NaN</i> values that we have to deal with. As we have seen in the 1st part, almost <b>70%</b> of the dataset has a <i>NaN</i> value so we can't simply remove them. In the same way, we have seen that almost a half of the features own <i>NaN</i> values, so we can't simply remove them either, all the more that some of them are \"highly\" correlated with Chech4. <br><br>\n",
    "    <b>So what an we do? </b>We can star by looking if there is zero-values in the features columns containing a lot of <i>NaNs</i>. If not, we can say that we replace <i>NaNs</i> with <i>zeros</i> in those columns.\n",
    "</div>"
   ]
  },
  {
   "cell_type": "markdown",
   "metadata": {},
   "source": [
    "### CPU: 25209 $NaNs$"
   ]
  },
  {
   "cell_type": "code",
   "execution_count": 13,
   "metadata": {},
   "outputs": [
    {
     "name": "stdout",
     "output_type": "stream",
     "text": [
      "Number of zeros in CPU column:  0\n"
     ]
    }
   ],
   "source": [
    "count = 0\n",
    "for cpu in dataset['CPU'].values:\n",
    "    if cpu == 0 :\n",
    "        count+=1\n",
    "print('Number of zeros in CPU column: ', count)"
   ]
  },
  {
   "cell_type": "markdown",
   "metadata": {},
   "source": [
    "### PhysMEM: 20567 $NaNs$"
   ]
  },
  {
   "cell_type": "code",
   "execution_count": 14,
   "metadata": {},
   "outputs": [
    {
     "name": "stdout",
     "output_type": "stream",
     "text": [
      "Number of zeros in PhysMEM column:  0\n"
     ]
    }
   ],
   "source": [
    "count = 0\n",
    "for pmem in dataset['PhysMEM'].values:\n",
    "    if pmem == 0 :\n",
    "        count+=1\n",
    "print('Number of zeros in PhysMEM column: ', count)"
   ]
  },
  {
   "cell_type": "markdown",
   "metadata": {},
   "source": [
    "### InstanceMEM: 22117 $NaNs$"
   ]
  },
  {
   "cell_type": "code",
   "execution_count": 15,
   "metadata": {},
   "outputs": [
    {
     "name": "stdout",
     "output_type": "stream",
     "text": [
      "Number of zeros in InstanceMEM column:  0\n"
     ]
    }
   ],
   "source": [
    "count = 0\n",
    "for imem in dataset['InstanceMEM'].values:\n",
    "    if imem == 0 :\n",
    "        count+=1\n",
    "print('Number of zeros in InstanceMEM column: ', count)"
   ]
  },
  {
   "cell_type": "markdown",
   "metadata": {},
   "source": [
    "### TablesAllocation: 2290 $NaNs$"
   ]
  },
  {
   "cell_type": "code",
   "execution_count": 16,
   "metadata": {},
   "outputs": [
    {
     "name": "stdout",
     "output_type": "stream",
     "text": [
      "Number of zeros in TablesAllocation column:  25986\n"
     ]
    }
   ],
   "source": [
    "count = 0\n",
    "for ta in dataset['TablesAllocation'].values:\n",
    "    if ta == 0 :\n",
    "        count+=1\n",
    "print('Number of zeros in TablesAllocation column: ', count)"
   ]
  },
  {
   "cell_type": "markdown",
   "metadata": {},
   "source": [
    "### IndexServerAllocationLimit: 26444 $NaNs$"
   ]
  },
  {
   "cell_type": "code",
   "execution_count": 17,
   "metadata": {},
   "outputs": [
    {
     "name": "stdout",
     "output_type": "stream",
     "text": [
      "Number of zeros in IndexServerAllocationLimit column:  0\n"
     ]
    }
   ],
   "source": [
    "count = 0\n",
    "for isal in dataset['IndexServerAllocationLimit'].values:\n",
    "    if isal == 0 :\n",
    "        count+=1\n",
    "print('Number of zeros in IndexServerAllocationLimit column: ',count)"
   ]
  },
  {
   "cell_type": "markdown",
   "metadata": {},
   "source": [
    "### DeltaSize: 206 $NaNs$"
   ]
  },
  {
   "cell_type": "code",
   "execution_count": 18,
   "metadata": {},
   "outputs": [
    {
     "name": "stdout",
     "output_type": "stream",
     "text": [
      "Number of zeros in DeltaSize column:  354\n"
     ]
    }
   ],
   "source": [
    "count = 0\n",
    "for ds in dataset['DeltaSize'].values:\n",
    "    if ds == 0 :\n",
    "        count+=1\n",
    "print('Number of zeros in DeltaSize column: ',count)"
   ]
  },
  {
   "cell_type": "markdown",
   "metadata": {},
   "source": [
    "### MergeErrors: 7733 $NaNs$"
   ]
  },
  {
   "cell_type": "code",
   "execution_count": 19,
   "metadata": {},
   "outputs": [
    {
     "name": "stdout",
     "output_type": "stream",
     "text": [
      "Number of zeros in MergeErrors column:  162979\n"
     ]
    }
   ],
   "source": [
    "count = 0\n",
    "for me in dataset['MergeErrors'].values:\n",
    "    if me == 0 :\n",
    "        count+=1\n",
    "print('Number of zeros in MergeErrors column: ',count)"
   ]
  },
  {
   "cell_type": "markdown",
   "metadata": {},
   "source": [
    "### BlockingPhaseSec: 75854 $NaNs$"
   ]
  },
  {
   "cell_type": "code",
   "execution_count": 20,
   "metadata": {},
   "outputs": [
    {
     "name": "stdout",
     "output_type": "stream",
     "text": [
      "Number of zeros in BlockingPhaseSec column:  3675\n"
     ]
    }
   ],
   "source": [
    "count = 0\n",
    "for bps in dataset['BlockingPhaseSec'].values:\n",
    "    if bps == 0 :\n",
    "        count+=1\n",
    "print('Number of zeros in BlockingPhaseSec column: ',count)"
   ]
  },
  {
   "cell_type": "markdown",
   "metadata": {},
   "source": [
    "### Disk: 11379 $NaNs$"
   ]
  },
  {
   "cell_type": "code",
   "execution_count": 21,
   "metadata": {},
   "outputs": [
    {
     "name": "stdout",
     "output_type": "stream",
     "text": [
      "Number of zeros in Disk column:  0\n"
     ]
    }
   ],
   "source": [
    "count = 0\n",
    "for disk in dataset['Disk'].values:\n",
    "    if disk == 0 :\n",
    "        count+=1\n",
    "print('Number of zeros in Disk column: ',count)"
   ]
  },
  {
   "cell_type": "markdown",
   "metadata": {},
   "source": [
    "### LargestTableSize: 16250 $NaNs$"
   ]
  },
  {
   "cell_type": "code",
   "execution_count": 22,
   "metadata": {},
   "outputs": [
    {
     "name": "stdout",
     "output_type": "stream",
     "text": [
      "Number of zeros in LargestTableSize column:  317\n"
     ]
    }
   ],
   "source": [
    "count = 0\n",
    "for lts in dataset['LargestTableSize'].values:\n",
    "    if lts == 0 :\n",
    "        count+=1\n",
    "print('Number of zeros in LargestTableSize column: ',count)"
   ]
  },
  {
   "cell_type": "markdown",
   "metadata": {},
   "source": [
    "### LargestPartitionSize: 150 $NaNs$"
   ]
  },
  {
   "cell_type": "code",
   "execution_count": 23,
   "metadata": {},
   "outputs": [
    {
     "name": "stdout",
     "output_type": "stream",
     "text": [
      "Number of zeros in LargestPartitionSize column:  385\n"
     ]
    }
   ],
   "source": [
    "count = 0\n",
    "for lps in dataset['LargestPartitionSize'].values:\n",
    "    if lps == 0 :\n",
    "        count+=1\n",
    "print('Number of zeros in LargestPartitionSize column: ',count)"
   ]
  },
  {
   "cell_type": "markdown",
   "metadata": {},
   "source": [
    "### DiagnosisFiles: 21923 $NaNs$"
   ]
  },
  {
   "cell_type": "code",
   "execution_count": 24,
   "metadata": {},
   "outputs": [
    {
     "name": "stdout",
     "output_type": "stream",
     "text": [
      "Number of zeros in DiagnosisFiles column:  0\n"
     ]
    }
   ],
   "source": [
    "count = 0\n",
    "for df in dataset['DiagnosisFiles'].values:\n",
    "    if df == 0 :\n",
    "        count+=1\n",
    "print('Number of zeros in DiagnosisFiles column: ',count)"
   ]
  },
  {
   "cell_type": "markdown",
   "metadata": {},
   "source": [
    "### DiagnosisFilesSize: 21923 $NaNs$"
   ]
  },
  {
   "cell_type": "code",
   "execution_count": 25,
   "metadata": {},
   "outputs": [
    {
     "name": "stdout",
     "output_type": "stream",
     "text": [
      "Number of zeros in DiagnosisFilesSize column:  0\n"
     ]
    }
   ],
   "source": [
    "count = 0\n",
    "for dfs in dataset['DiagnosisFilesSize'].values:\n",
    "    if dfs == 0 :\n",
    "        count+=1\n",
    "print('Number of zeros in DiagnosisFilesSize column: ',count)"
   ]
  },
  {
   "cell_type": "markdown",
   "metadata": {},
   "source": [
    "### LogSegmentChange: 35549 $NaNs$"
   ]
  },
  {
   "cell_type": "code",
   "execution_count": 26,
   "metadata": {},
   "outputs": [
    {
     "name": "stdout",
     "output_type": "stream",
     "text": [
      "Number of zeros in LogSegmentChange column:  227058\n"
     ]
    }
   ],
   "source": [
    "count = 0\n",
    "for lsc in dataset['LogSegmentChange'].values:\n",
    "    if lsc == 0 :\n",
    "        count+=1\n",
    "print('Number of zeros in LogSegmentChange column: ',count)"
   ]
  },
  {
   "cell_type": "markdown",
   "metadata": {},
   "source": [
    "### Dumps: 3 $NaNs$"
   ]
  },
  {
   "cell_type": "code",
   "execution_count": 27,
   "metadata": {},
   "outputs": [
    {
     "name": "stdout",
     "output_type": "stream",
     "text": [
      "Number of zeros in Dumps column:  259009\n"
     ]
    }
   ],
   "source": [
    "count = 0\n",
    "for dumps in dataset['Dumps'].values:\n",
    "    if dumps == 0 :\n",
    "        count+=1\n",
    "print('Number of zeros in Dumps column: ',count)"
   ]
  },
  {
   "cell_type": "markdown",
   "metadata": {},
   "source": [
    "### CompositeOOMDums: 3 $NaNs$"
   ]
  },
  {
   "cell_type": "code",
   "execution_count": 28,
   "metadata": {},
   "outputs": [
    {
     "name": "stdout",
     "output_type": "stream",
     "text": [
      "Number of zeros in CompositeOOMDums column:  272202\n"
     ]
    }
   ],
   "source": [
    "count = 0\n",
    "for dfs in dataset['CompositeOOMDums'].values:\n",
    "    if dfs == 0 :\n",
    "        count+=1\n",
    "print('Number of zeros in CompositeOOMDums column: ',count)"
   ]
  },
  {
   "cell_type": "markdown",
   "metadata": {},
   "source": [
    "<div class=\"alert alert-block alert-success\">\n",
    "    Over the 16 series containing <i>NaNs</i> (16 because we have removed CleanupOMMDumps), 7 have no zero-value. We can replace them. Among the 9 remaining series, 6 have very few <i>NaNs</i>. We can remove the corresponding rows. It will leave 3 columns to deal with.\n",
    "</div>"
   ]
  },
  {
   "cell_type": "code",
   "execution_count": 29,
   "metadata": {},
   "outputs": [
    {
     "data": {
      "text/html": [
       " <div class='alert alert-block alert-success'> The proportion of rows that has been deleted is: <b>2.78%</b></div> "
      ],
      "text/plain": [
       "<IPython.core.display.HTML object>"
      ]
     },
     "metadata": {},
     "output_type": "display_data"
    }
   ],
   "source": [
    "dataset['CPU'].fillna(0,inplace=True)\n",
    "dataset['PhysMEM'].fillna(0,inplace=True)\n",
    "dataset['InstanceMEM'].fillna(0,inplace=True)\n",
    "dataset['IndexServerAllocationLimit'].fillna(0,inplace=True)\n",
    "dataset['Disk'].fillna(0,inplace=True)\n",
    "dataset['DiagnosisFiles'].fillna(0,inplace=True)\n",
    "dataset['DiagnosisFilesSize'].fillna(0,inplace=True)\n",
    "\n",
    "names = ['CompositeOOMDums', 'Dumps', 'LargestPartitionSize', 'MergeErrors', 'DeltaSize', 'TablesAllocation']\n",
    "for name in names:\n",
    "    dataset.dropna(axis=0, subset=names, inplace=True)\n",
    "dataset.reset_index(inplace=True)\n",
    "\n",
    "prop_del=100-(dataset['SessionNumber'].count()/LENGTH)*100\n",
    "html = \" <div class='alert alert-block alert-success'> \" + \\\n",
    "\"The proportion of rows that has been deleted is: <b>{0:.2f}%</b>\".format(prop_del) + \\\n",
    "\"</div> \"\n",
    "display(HTML(html))"
   ]
  },
  {
   "cell_type": "markdown",
   "metadata": {},
   "source": [
    "<div class=\"alert alert-block alert-info\">\n",
    "    So there are 3 columns left containing <i>NaNs</i>: <b>BlockingPhaseSec</b>, <b>LargestTableSize</b> and <b>LogSegmentChange</b>. First, we can try to use 'dropna', as above, and see what is the new proprotion of rows that have been deleted:\n",
    "</div>"
   ]
  },
  {
   "cell_type": "code",
   "execution_count": 30,
   "metadata": {},
   "outputs": [
    {
     "data": {
      "text/html": [
       " <div class='alert alert-block alert-success'> The proportion of rows that has been deleted is: <b>26.52%</b></div> "
      ],
      "text/plain": [
       "<IPython.core.display.HTML object>"
      ]
     },
     "metadata": {},
     "output_type": "display_data"
    }
   ],
   "source": [
    "dropna_set=dataset.copy(deep=True)\n",
    "dropna_set.dropna(axis=0, subset=['BlockingPhaseSec', 'LargestTableSize', 'LogSegmentChange'], inplace=True)\n",
    "prop_del=100-(dropna_set['SessionNumber'].count()/LENGTH)*100\n",
    "html = \" <div class='alert alert-block alert-success'> \" + \\\n",
    "\"The proportion of rows that has been deleted is: <b>{0:.2f}%</b>\".format(prop_del) + \\\n",
    "\"</div> \"\n",
    "display(HTML(html))\n",
    "del dropna_set"
   ]
  },
  {
   "cell_type": "markdown",
   "metadata": {},
   "source": [
    "<div class=\"alert alert-block alert-info\">\n",
    "    This proportion is too huge! We can't create validation and test sets and still have a large enough train set to train our models. What we can try is looking the correlation of those 3 columns with the 8 labels to know if we can simply delete them or not.\n",
    "</div>"
   ]
  },
  {
   "cell_type": "code",
   "execution_count": 31,
   "metadata": {},
   "outputs": [
    {
     "data": {
      "image/png": "[encoded data removed]",
      "text/plain": [
       "<Figure size 720x576 with 2 Axes>"
      ]
     },
     "metadata": {},
     "output_type": "display_data"
    }
   ],
   "source": [
    "dropcol_set=dataset[['BlockingPhaseSec', 'LargestTableSize', 'LogSegmentChange', 'Check1','Check2', 'Check3', 'Check4', 'Check5', 'Check6',\n",
    "                     'Check7', 'Check8']]\n",
    "corr = dropcol_set.corr()\n",
    "#to_plot = corr.values.copy()\n",
    "#for i in range(to_plot.shape[0]):\n",
    "#    to_plot[i,i] = 0\n",
    "fig, ax = plt.subplots(figsize=(10,8))\n",
    "sns.heatmap(corr, annot=True, linewidth=.5, ax=ax)\n",
    "del dropcol_set"
   ]
  },
  {
   "cell_type": "markdown",
   "metadata": {},
   "source": [
    "<div class=\"alert alert-block alert-success\">\n",
    "    We can see that we can clearly drop <b>BlockingPhaseSec</b> and <b>LogSegmentChange</b>. However, we can see that <b>LargestTableSize</b> has higher correlation values with some labels.\n",
    "</div>"
   ]
  },
  {
   "cell_type": "markdown",
   "metadata": {},
   "source": [
    "<div class=\"alert alert-block alert-info\">\n",
    "    After dropping the 2 mentionned columns, let's try to see what is the proportion of remaining rows if we do a 'dropna' on the <b>LargestTableSize</b> column.\n",
    "</div>"
   ]
  },
  {
   "cell_type": "code",
   "execution_count": 32,
   "metadata": {},
   "outputs": [
    {
     "data": {
      "text/html": [
       " <div class='alert alert-block alert-success'> The proportion of rows that has been deleted is: <b>5.67%</b></div> "
      ],
      "text/plain": [
       "<IPython.core.display.HTML object>"
      ]
     },
     "metadata": {},
     "output_type": "display_data"
    }
   ],
   "source": [
    "dataset.drop(['BlockingPhaseSec', 'LogSegmentChange'], axis=1, inplace=True)\n",
    "dropna_set=dataset.copy(deep=True)\n",
    "dropna_set.dropna(axis=0, subset=['LargestTableSize'], inplace=True)\n",
    "prop_del=100-(dropna_set['SessionNumber'].count()/LENGTH)*100\n",
    "html = \" <div class='alert alert-block alert-success'> \" + \\\n",
    "\"The proportion of rows that has been deleted is: <b>{0:.2f}%</b>\".format(prop_del) + \\\n",
    "\"</div> \"\n",
    "display(HTML(html))\n",
    "del dropna_set"
   ]
  },
  {
   "cell_type": "markdown",
   "metadata": {},
   "source": [
    "<div class=\"alert alert-block alert-info\">\n",
    "This is an acceptable proportion. Now let's do it on the dataset, seperate features and labels and check that we have no remaining <i>NaNs</i>.\n",
    "</div>"
   ]
  },
  {
   "cell_type": "code",
   "execution_count": 33,
   "metadata": {},
   "outputs": [],
   "source": [
    "dataset.dropna(axis=0, subset=['LargestTableSize'], inplace=True)\n",
    "\n",
    "features = pd.DataFrame()\n",
    "labels = pd.DataFrame()\n",
    "\n",
    "features = dataset.iloc[: , 0:31]\n",
    "labels = dataset.iloc[: , 31:]"
   ]
  },
  {
   "cell_type": "code",
   "execution_count": 34,
   "metadata": {},
   "outputs": [
    {
     "data": {
      "text/html": [
       "<div>\n",
       "<style scoped>\n",
       "    .dataframe tbody tr th:only-of-type {\n",
       "        vertical-align: middle;\n",
       "    }\n",
       "\n",
       "    .dataframe tbody tr th {\n",
       "        vertical-align: top;\n",
       "    }\n",
       "\n",
       "    .dataframe thead th {\n",
       "        text-align: right;\n",
       "    }\n",
       "</style>\n",
       "<table border=\"1\" class=\"dataframe\">\n",
       "  <thead>\n",
       "    <tr style=\"text-align: right;\">\n",
       "      <th></th>\n",
       "      <th>Series</th>\n",
       "      <th>NaNs number</th>\n",
       "    </tr>\n",
       "  </thead>\n",
       "  <tbody>\n",
       "    <tr>\n",
       "      <th>0</th>\n",
       "      <td>index</td>\n",
       "      <td>0</td>\n",
       "    </tr>\n",
       "    <tr>\n",
       "      <th>1</th>\n",
       "      <td>SessionNumber</td>\n",
       "      <td>0</td>\n",
       "    </tr>\n",
       "    <tr>\n",
       "      <th>2</th>\n",
       "      <td>SystemID</td>\n",
       "      <td>0</td>\n",
       "    </tr>\n",
       "    <tr>\n",
       "      <th>3</th>\n",
       "      <td>HighPriorityAlerts</td>\n",
       "      <td>0</td>\n",
       "    </tr>\n",
       "    <tr>\n",
       "      <th>4</th>\n",
       "      <td>Dumps</td>\n",
       "      <td>0</td>\n",
       "    </tr>\n",
       "    <tr>\n",
       "      <th>5</th>\n",
       "      <td>CompositeOOMDums</td>\n",
       "      <td>0</td>\n",
       "    </tr>\n",
       "    <tr>\n",
       "      <th>6</th>\n",
       "      <td>IndexServerRestarts</td>\n",
       "      <td>0</td>\n",
       "    </tr>\n",
       "    <tr>\n",
       "      <th>7</th>\n",
       "      <td>NameServerRestarts</td>\n",
       "      <td>0</td>\n",
       "    </tr>\n",
       "    <tr>\n",
       "      <th>8</th>\n",
       "      <td>XSEngineRestarts</td>\n",
       "      <td>0</td>\n",
       "    </tr>\n",
       "    <tr>\n",
       "      <th>9</th>\n",
       "      <td>StatisticsServerRestarts</td>\n",
       "      <td>0</td>\n",
       "    </tr>\n",
       "    <tr>\n",
       "      <th>10</th>\n",
       "      <td>CPU</td>\n",
       "      <td>0</td>\n",
       "    </tr>\n",
       "    <tr>\n",
       "      <th>11</th>\n",
       "      <td>PhysMEM</td>\n",
       "      <td>0</td>\n",
       "    </tr>\n",
       "    <tr>\n",
       "      <th>12</th>\n",
       "      <td>InstanceMEM</td>\n",
       "      <td>0</td>\n",
       "    </tr>\n",
       "    <tr>\n",
       "      <th>13</th>\n",
       "      <td>TablesAllocation</td>\n",
       "      <td>0</td>\n",
       "    </tr>\n",
       "    <tr>\n",
       "      <th>14</th>\n",
       "      <td>IndexServerAllocationLimit</td>\n",
       "      <td>0</td>\n",
       "    </tr>\n",
       "    <tr>\n",
       "      <th>15</th>\n",
       "      <td>ColumnUnloads</td>\n",
       "      <td>0</td>\n",
       "    </tr>\n",
       "    <tr>\n",
       "      <th>16</th>\n",
       "      <td>DeltaSize</td>\n",
       "      <td>0</td>\n",
       "    </tr>\n",
       "    <tr>\n",
       "      <th>17</th>\n",
       "      <td>MergeErrors</td>\n",
       "      <td>0</td>\n",
       "    </tr>\n",
       "    <tr>\n",
       "      <th>18</th>\n",
       "      <td>Disk</td>\n",
       "      <td>0</td>\n",
       "    </tr>\n",
       "    <tr>\n",
       "      <th>19</th>\n",
       "      <td>LargestTableSize</td>\n",
       "      <td>0</td>\n",
       "    </tr>\n",
       "    <tr>\n",
       "      <th>20</th>\n",
       "      <td>LargestPartitionSize</td>\n",
       "      <td>0</td>\n",
       "    </tr>\n",
       "    <tr>\n",
       "      <th>21</th>\n",
       "      <td>DiagnosisFiles</td>\n",
       "      <td>0</td>\n",
       "    </tr>\n",
       "    <tr>\n",
       "      <th>22</th>\n",
       "      <td>DiagnosisFilesSize</td>\n",
       "      <td>0</td>\n",
       "    </tr>\n",
       "    <tr>\n",
       "      <th>23</th>\n",
       "      <td>DaysWithSuccessfulDataBackups</td>\n",
       "      <td>0</td>\n",
       "    </tr>\n",
       "    <tr>\n",
       "      <th>24</th>\n",
       "      <td>DaysWithSuccessfulLogBackups</td>\n",
       "      <td>0</td>\n",
       "    </tr>\n",
       "    <tr>\n",
       "      <th>25</th>\n",
       "      <td>DaysWithFailedDataBackups</td>\n",
       "      <td>0</td>\n",
       "    </tr>\n",
       "    <tr>\n",
       "      <th>26</th>\n",
       "      <td>DaysWithFailedfulLogBackups</td>\n",
       "      <td>0</td>\n",
       "    </tr>\n",
       "    <tr>\n",
       "      <th>27</th>\n",
       "      <td>MinDailyNumberOfSuccessfulDataBackups</td>\n",
       "      <td>0</td>\n",
       "    </tr>\n",
       "    <tr>\n",
       "      <th>28</th>\n",
       "      <td>MinDailyNumberOfSuccessfulLogBackups</td>\n",
       "      <td>0</td>\n",
       "    </tr>\n",
       "    <tr>\n",
       "      <th>29</th>\n",
       "      <td>MaxDailyNumberOfFailedDataBackups</td>\n",
       "      <td>0</td>\n",
       "    </tr>\n",
       "    <tr>\n",
       "      <th>30</th>\n",
       "      <td>MaxDailyNumberOfFailedLogBackups</td>\n",
       "      <td>0</td>\n",
       "    </tr>\n",
       "  </tbody>\n",
       "</table>\n",
       "</div>"
      ],
      "text/plain": [
       "                                   Series NaNs number\n",
       "0                                   index           0\n",
       "1                           SessionNumber           0\n",
       "2                                SystemID           0\n",
       "3                      HighPriorityAlerts           0\n",
       "4                                   Dumps           0\n",
       "5                        CompositeOOMDums           0\n",
       "6                     IndexServerRestarts           0\n",
       "7                      NameServerRestarts           0\n",
       "8                        XSEngineRestarts           0\n",
       "9                StatisticsServerRestarts           0\n",
       "10                                    CPU           0\n",
       "11                                PhysMEM           0\n",
       "12                            InstanceMEM           0\n",
       "13                       TablesAllocation           0\n",
       "14             IndexServerAllocationLimit           0\n",
       "15                          ColumnUnloads           0\n",
       "16                              DeltaSize           0\n",
       "17                            MergeErrors           0\n",
       "18                                   Disk           0\n",
       "19                       LargestTableSize           0\n",
       "20                   LargestPartitionSize           0\n",
       "21                         DiagnosisFiles           0\n",
       "22                     DiagnosisFilesSize           0\n",
       "23          DaysWithSuccessfulDataBackups           0\n",
       "24           DaysWithSuccessfulLogBackups           0\n",
       "25              DaysWithFailedDataBackups           0\n",
       "26            DaysWithFailedfulLogBackups           0\n",
       "27  MinDailyNumberOfSuccessfulDataBackups           0\n",
       "28   MinDailyNumberOfSuccessfulLogBackups           0\n",
       "29      MaxDailyNumberOfFailedDataBackups           0\n",
       "30       MaxDailyNumberOfFailedLogBackups           0"
      ]
     },
     "metadata": {},
     "output_type": "display_data"
    }
   ],
   "source": [
    "count_nans = pd.DataFrame(columns=['Series', 'NaNs number'])\n",
    "\n",
    "for column in features:\n",
    "    counter = {'Series': column}\n",
    "    counter['NaNs number'] = features[column].isna().sum()\n",
    "    count_nans = count_nans.append(counter, ignore_index=True)\n",
    "\n",
    "display(count_nans)"
   ]
  },
  {
   "cell_type": "markdown",
   "metadata": {},
   "source": [
    "<div class=\"alert alert-block alert-info\">\n",
    "<h3>Concerning the outliers</h3>\n",
    "Since the data we have come from computers reports, we have a fair chance that we wont have any outliers in the dataset. More important, the presence of outliers has only a little impact on the predictions we want to make, since we are trying to classify things, rather than predicting a number, like we would have done in a regression problem. Hence, the impact the outliers could have had will be, according to us, compensated with the fact that we round the prediction of the model, since we are only predicting a binary number.\n",
    "</div>"
   ]
  },
  {
   "cell_type": "markdown",
   "metadata": {},
   "source": [
    "<div class=\"alert alert-block alert-info\">\n",
    "    <h3> Concerning data normalisation </h3>\n",
    "    We do not think that the data need to be normalised. Indeed, the models we will work with are Bayesian ones. Hence, they use the Bayes formula, among other things, to make their predictions. Normalizing the data would make us taking the risk of adding some kind of bias to the data. Finally, the model we have decided to use, the Bayesian Rule Set one, already apply a data normalization (with the normalize method of the model class). For these reasons, we have decided not to apply a standardisation of the data.\n",
    "</div>"
   ]
  },
  {
   "cell_type": "markdown",
   "metadata": {},
   "source": [
    "<div class=\"alert alert-block alert-info\">\n",
    "    <h3>Combining existing labels</h3>\n",
    "</div>\n",
    "<div class=\"alert alert-block alert-info\">\n",
    "    We can try to build new labels by combining one or more labels (for example by doing an OR) and then check if this impacts the performance of the model(s).<br><br>\n",
    " <ul>\n",
    "    <li>For instance, we notice that Check4 and Check2 are highly corrolated. This probabbly means that they often occur in the same sonditions. Studying them together migth me a good idea so we create <b>Check9 = Check2 OR Check4</b>.<br> In order to handle cases where there are $NaNs$, we will consider there intersection as zeros.</li><br>\n",
    "    <li>Futhermore, we can also create <b>Check10</b> by combining all checks : $\\mathbf{check_{10} = \\bigcup\\limits_{n=1}^{8}check_n}$. In order to handle cases where there are $NaNs$, we will consider these unions as zeros.</li>\n",
    "</ul>\n",
    "</div>"
   ]
  },
  {
   "cell_type": "code",
   "execution_count": 35,
   "metadata": {},
   "outputs": [
    {
     "data": {
      "text/html": [
       "<div>\n",
       "<style scoped>\n",
       "    .dataframe tbody tr th:only-of-type {\n",
       "        vertical-align: middle;\n",
       "    }\n",
       "\n",
       "    .dataframe tbody tr th {\n",
       "        vertical-align: top;\n",
       "    }\n",
       "\n",
       "    .dataframe thead th {\n",
       "        text-align: right;\n",
       "    }\n",
       "</style>\n",
       "<table border=\"1\" class=\"dataframe\">\n",
       "  <thead>\n",
       "    <tr style=\"text-align: right;\">\n",
       "      <th></th>\n",
       "      <th>Check1</th>\n",
       "      <th>Check2</th>\n",
       "      <th>Check3</th>\n",
       "      <th>Check4</th>\n",
       "      <th>Check5</th>\n",
       "      <th>Check6</th>\n",
       "      <th>Check7</th>\n",
       "      <th>Check8</th>\n",
       "      <th>Check9</th>\n",
       "      <th>Check10</th>\n",
       "    </tr>\n",
       "  </thead>\n",
       "  <tbody>\n",
       "    <tr>\n",
       "      <th>0</th>\n",
       "      <td>0.0</td>\n",
       "      <td>0.0</td>\n",
       "      <td>0.0</td>\n",
       "      <td>NaN</td>\n",
       "      <td>NaN</td>\n",
       "      <td>0.0</td>\n",
       "      <td>0.0</td>\n",
       "      <td>0.0</td>\n",
       "      <td>0</td>\n",
       "      <td>0</td>\n",
       "    </tr>\n",
       "    <tr>\n",
       "      <th>1</th>\n",
       "      <td>0.0</td>\n",
       "      <td>0.0</td>\n",
       "      <td>0.0</td>\n",
       "      <td>NaN</td>\n",
       "      <td>NaN</td>\n",
       "      <td>0.0</td>\n",
       "      <td>0.0</td>\n",
       "      <td>0.0</td>\n",
       "      <td>0</td>\n",
       "      <td>0</td>\n",
       "    </tr>\n",
       "    <tr>\n",
       "      <th>2</th>\n",
       "      <td>0.0</td>\n",
       "      <td>0.0</td>\n",
       "      <td>0.0</td>\n",
       "      <td>NaN</td>\n",
       "      <td>NaN</td>\n",
       "      <td>0.0</td>\n",
       "      <td>0.0</td>\n",
       "      <td>0.0</td>\n",
       "      <td>0</td>\n",
       "      <td>0</td>\n",
       "    </tr>\n",
       "    <tr>\n",
       "      <th>3</th>\n",
       "      <td>0.0</td>\n",
       "      <td>0.0</td>\n",
       "      <td>0.0</td>\n",
       "      <td>NaN</td>\n",
       "      <td>NaN</td>\n",
       "      <td>0.0</td>\n",
       "      <td>0.0</td>\n",
       "      <td>0.0</td>\n",
       "      <td>0</td>\n",
       "      <td>0</td>\n",
       "    </tr>\n",
       "    <tr>\n",
       "      <th>4</th>\n",
       "      <td>0.0</td>\n",
       "      <td>0.0</td>\n",
       "      <td>0.0</td>\n",
       "      <td>NaN</td>\n",
       "      <td>NaN</td>\n",
       "      <td>0.0</td>\n",
       "      <td>0.0</td>\n",
       "      <td>0.0</td>\n",
       "      <td>0</td>\n",
       "      <td>0</td>\n",
       "    </tr>\n",
       "  </tbody>\n",
       "</table>\n",
       "</div>"
      ],
      "text/plain": [
       "   Check1  Check2  Check3  Check4  Check5  Check6  Check7  Check8  Check9  \\\n",
       "0     0.0     0.0     0.0     NaN     NaN     0.0     0.0     0.0       0   \n",
       "1     0.0     0.0     0.0     NaN     NaN     0.0     0.0     0.0       0   \n",
       "2     0.0     0.0     0.0     NaN     NaN     0.0     0.0     0.0       0   \n",
       "3     0.0     0.0     0.0     NaN     NaN     0.0     0.0     0.0       0   \n",
       "4     0.0     0.0     0.0     NaN     NaN     0.0     0.0     0.0       0   \n",
       "\n",
       "   Check10  \n",
       "0        0  \n",
       "1        0  \n",
       "2        0  \n",
       "3        0  \n",
       "4        0  "
      ]
     },
     "metadata": {},
     "output_type": "display_data"
    },
    {
     "data": {
      "image/png": "[encoded data removed]",
      "text/plain": [
       "<Figure size 576x252 with 2 Axes>"
      ]
     },
     "metadata": {},
     "output_type": "display_data"
    }
   ],
   "source": [
    "labels_copy = labels.copy()\n",
    "labels_copy = labels_copy.fillna(0)\n",
    "\n",
    "\n",
    "check9 =  labels_copy.Check2.astype(int) | labels_copy.Check4.astype(int) \n",
    "labels['Check9'] = check9\n",
    "dataset['Check9'] = check9\n",
    "\n",
    "check10 = labels_copy.Check1.astype(int) | labels_copy.Check2.astype(int) | labels_copy.Check3.astype(int) | labels_copy.Check4.astype(int) | labels_copy.Check5.astype(int) | labels_copy.Check6.astype(int) | labels_copy.Check7.astype(int) | labels_copy.Check8.astype(int)\n",
    "labels['Check10'] = check10\n",
    "dataset['Check10'] = check10\n",
    "\n",
    "display(labels.head(5))\n",
    "\n",
    "total=len(labels['Check1'].values)\n",
    "\n",
    "fig = plt.figure(figsize=(8,3.5))\n",
    "\n",
    "labels_grouped=labels.groupby('Check9', as_index=False).size().reset_index().rename(columns={0:'Number'})\n",
    "ax1 = plt.subplot2grid((1,2), (0, 0))\n",
    "plt.pie(labels_grouped.Number ,colors=(\"g\",\"r\"), autopct='%1.1f%%')\n",
    "plt.title('Check9')\n",
    "centre_circle = plt.Circle((0,0),0.70,fc='white')\n",
    "fig = plt.gcf()\n",
    "plt.legend(labels_grouped['Check9'], loc='center', fontsize=8)\n",
    "fig.gca().add_artist(centre_circle)\n",
    "\n",
    "labels_grouped=labels.groupby('Check10', as_index=False).size().reset_index().rename(columns={0:'Number'})\n",
    "ax1 = plt.subplot2grid((1,2), (0, 1))\n",
    "plt.pie(labels_grouped.Number ,colors=(\"g\",\"r\"), autopct='%1.1f%%')\n",
    "plt.title('Check10')\n",
    "centre_circle = plt.Circle((0,0),0.70,fc='white')\n",
    "fig = plt.gcf()\n",
    "plt.legend(labels_grouped['Check10'], loc='center', fontsize=8)\n",
    "fig.gca().add_artist(centre_circle)\n",
    "\n",
    "plt.show()\n",
    "\n",
    "del labels_grouped\n",
    "del labels_copy"
   ]
  },
  {
   "cell_type": "markdown",
   "metadata": {},
   "source": [
    "<div class=\"\">\n",
    "    <h3>3. Model Selection</h3>\n",
    "</div>"
   ]
  },
  {
   "cell_type": "markdown",
   "metadata": {},
   "source": [
    "At this point, you should have a good understanding of the dataset, and have an idea about the possible candidate models. For example, you may try a multi-label classification model to predict all classes at ones, or train different models, one for each label. In any case, it is important to justify your choices and make a comparison among the candidate models.\n",
    "\n",
    "You are free to choose any model you want, but you should be aware about some factors which may influence your decision:\n",
    "\n",
    "- What is the model's complexity?\n",
    "- Is the model interpretable?\n",
    "- Is the model able to handle imbalanced datasets?\n",
    "- Is the model capable of handling both numerical and categorical data?\n",
    "- Is the model able to handle missing values?\n",
    "- Does the model return uncertainty estimates along with predictions?\n",
    "\n",
    "An in-depth evaluation of competing models in view of this and other criteria will elevate the quality of your submission and earn you a higher grade. You may also try to build new labels by combining one or more labels (for example by doing an OR) and check if this impacts the performance of the model(s)."
   ]
  },
  {
   "cell_type": "markdown",
   "metadata": {},
   "source": [
    "<div class=\"\">\n",
    "    <h4>3.1 Interpretable Models</h3>\n",
    "</div>"
   ]
  },
  {
   "cell_type": "markdown",
   "metadata": {},
   "source": [
    "Being able to understand the output of a model is important in many field, especially in anomaly detection. In linear regression, for example, the weights of the model can provide some hints on the importance of features, and this is a form of interpretability. Here, we focus on Rule learning, a specific field of interpretable machine learning that provides interpretability through the use of rules. Examples of rule-based models are: \n",
    "\n",
    "- RIPPER\n",
    "    - [Main Paper](http://citeseerx.ist.psu.edu/viewdoc/download?doi=10.1.1.107.2612&rep=rep1&type=pdf)\n",
    "    - A fast and reliable implementation is JRIP by [WEKA](https://www.cs.waikato.ac.nz/~ml/weka/). You can also find unofficial python implementations on GitHub.\n",
    "- Bayesian Rule Sets (BRS)\n",
    "    - [Main Paper](http://jmlr.org/papers/volume18/16-003/16-003.pdf)\n",
    "    - You can find a good implementation [here](https://pypi.org/project/ruleset/). You will probably need to install \"fim\" (pip install fim) before installing BRS.\n",
    "- Scalable Bayesian Rule Lists (SBRL)\n",
    "    - [Main Paper](https://arxiv.org/pdf/1602.08610.pdf)\n",
    "    - You can find a good implementation [here](https://github.com/myaooo/pysbrl). You will probably need to install \"fim\" (pip install fim) before installing SBRL.\n",
    "- and so on... \n",
    "\n",
    "Try to run at least one of the suggested models (you are free to try others as well) and comment:\n",
    "\n",
    "- Are rule-learning models able to provide the same predictive performances as previously tested models?\n",
    "- Are they faster or slower to train?\n",
    "- Do learned rules look meaningful to you?\n",
    "- How many rules do these models learn?\n",
    "- How many conditions/atoms have on average?\n",
    "\n",
    "<b>N.B.</b> Since most of the rule-learning implementations deal with binary labels, you can train the model to predict one label of your choice."
   ]
  },
  {
   "cell_type": "markdown",
   "metadata": {},
   "source": [
    "<div class=\"alert alert-block alert-info\">\n",
    " <h3>Bayesian Rule Sets (BRS) model</h3>\n",
    "</div>"
   ]
  },
  {
   "cell_type": "code",
   "execution_count": 46,
   "metadata": {},
   "outputs": [
    {
     "name": "stdout",
     "output_type": "stream",
     "text": [
      "Collecting ruleset\n",
      "  Downloading https://files.pythonhosted.org/packages/9f/3e/f1f88d114bd67c609756acb7ac6f4140c47581fdb30907b1ecf0a95ff32e/ruleset-1.0.1-py3-none-any.whl\n",
      "Requirement already satisfied, skipping upgrade: scipy in /usr/local/lib/python3.5/dist-packages (from ruleset) (1.1.0)\n",
      "Requirement already satisfied, skipping upgrade: pandas in /usr/local/lib/python3.5/dist-packages (from ruleset) (0.23.4)\n",
      "Collecting sklearn (from ruleset)\n",
      "  Downloading https://files.pythonhosted.org/packages/1e/7a/dbb3be0ce9bd5c8b7e3d87328e79063f8b263b2b1bfa4774cb1147bfcd3f/sklearn-0.0.tar.gz\n",
      "Requirement already satisfied, skipping upgrade: numpy in /usr/local/lib/python3.5/dist-packages (from ruleset) (1.14.5)\n",
      "Requirement already satisfied, skipping upgrade: python-dateutil>=2.5.0 in /usr/local/lib/python3.5/dist-packages (from pandas->ruleset) (2.7.3)\n",
      "Requirement already satisfied, skipping upgrade: pytz>=2011k in /usr/local/lib/python3.5/dist-packages (from pandas->ruleset) (2018.5)\n",
      "Requirement already satisfied, skipping upgrade: scikit-learn in /mnt/workspace/.local/lib/python3.5/site-packages (from sklearn->ruleset) (0.20.3)\n",
      "Requirement already satisfied, skipping upgrade: six>=1.5 in /usr/local/lib/python3.5/dist-packages (from python-dateutil>=2.5.0->pandas->ruleset) (1.11.0)\n",
      "Building wheels for collected packages: sklearn\n",
      "  Building wheel for sklearn (setup.py) ... \u001b[?25ldone\n",
      "\u001b[?25h  Stored in directory: /mnt/workspace/.cache/pip/wheels/76/03/bb/589d421d27431bcd2c6da284d5f2286c8e3b2ea3cf1594c074\n",
      "Successfully built sklearn\n",
      "Installing collected packages: sklearn, ruleset\n",
      "Successfully installed ruleset-1.0.1 sklearn-0.0\n",
      "\u001b[33mYou are using pip version 19.0.3, however version 19.1.1 is available.\n",
      "You should consider upgrading via the 'pip install --upgrade pip' command.\u001b[0m\n"
     ]
    }
   ],
   "source": [
    "!pip install 'ruleset' --user --upgrade"
   ]
  },
  {
   "cell_type": "markdown",
   "metadata": {},
   "source": [
    "<div class=\"alert alert-block alert-info\">\n",
    "    What we want to do first is to try to evaluate the model with its default parameters.\n",
    "</div>"
   ]
  },
  {
   "cell_type": "markdown",
   "metadata": {},
   "source": [
    "<div class=\"alert alert-block alert-info\">\n",
    " <h5>Check 1</h5>\n",
    "</div>"
   ]
  },
  {
   "cell_type": "code",
   "execution_count": 3,
   "metadata": {},
   "outputs": [
    {
     "name": "stdout",
     "output_type": "stream",
     "text": [
      "\n",
      "** chain = 1, max at iter = 0 ** \n",
      " accuracy = 0.993370607028754, TP = 0,FP = 0, TN = 12437, FN = 83\n",
      " old is -999999999.9, pt_new is -518.9188054178328, prior_ChsRules=-17.47874491949915, likelihood_1 = 0.0, likelihood_2 = -501.44006049833365\n",
      " \n",
      "[]\n",
      "F1_score =  0.49840417718307223\n"
     ]
    }
   ],
   "source": [
    "import ruleset\n",
    "\n",
    "warnings.filterwarnings(\"ignore\")\n",
    "\n",
    "subset_size = dataset.shape[0]//2\n",
    "\n",
    "dataset1 = dataset[:subset_size].copy(deep=True)\n",
    "dataset1.dropna(axis=0, subset=['Check1'], inplace=True)\n",
    "features1 = pd.DataFrame()\n",
    "labels1 = pd.DataFrame()\n",
    "\n",
    "features1 = dataset1.iloc[: , 0:31]\n",
    "labels1 = dataset1.iloc[: , 31:]\n",
    "\n",
    "X_train1, X_test1, y_train1, y_test1 = train_test_split(features1, labels1['Check1'], test_size=0.9)\n",
    "\n",
    "BRS_model_1 = ruleset.BayesianRuleSet(method='forest')\n",
    "BRS_model_1.fit(X_train1, y_train1.astype('int64').values)\n",
    "\n",
    "y_pred1 = BRS_model_1.predict(X_test1)\n",
    "f1_score_1 = f1_score(y_test1, y_pred1, average='macro')\n",
    "print('F1_score = ',f1_score_1)\n",
    "del dataset1\n",
    "del features1\n",
    "del labels1"
   ]
  },
  {
   "cell_type": "markdown",
   "metadata": {},
   "source": [
    "<div class=\"alert alert-block alert-info\">\n",
    " <h5>Check 2</h5>\n",
    "</div>"
   ]
  },
  {
   "cell_type": "code",
   "execution_count": 40,
   "metadata": {},
   "outputs": [
    {
     "name": "stdout",
     "output_type": "stream",
     "text": [
      "\n",
      "** chain = 1, max at iter = 0 ** \n",
      " accuracy = 0.9641884313411312, TP = 0,FP = 0, TN = 12035, FN = 447\n",
      " old is -999999999.9, pt_new is -1949.135462003115, prior_ChsRules=-17.47874491949915, likelihood_1 = 0.0, likelihood_2 = -1931.6567170836158\n",
      " \n",
      "[]\n",
      "\n",
      "** chain = 1, max at iter = 1 ** \n",
      " accuracy = 0.9855792340970998, TP = 300,FP = 33, TN = 12002, FN = 147\n",
      " old is -1949.035462003115, pt_new is -930.542207256492, prior_ChsRules=-17.47874491949915, likelihood_1 = -115.41506543828177, likelihood_2 = -797.6483968987111\n",
      " \n",
      "['90.03<=InstanceMEM', '6804.0<=LargestPartitionSize', 'InstanceMEM<95.64', 'LargestPartitionSize<2147474931.0', '161<=SystemID', 'SystemID<2470']\n",
      "[717]\n",
      "\n",
      "** chain = 1, max at iter = 2 ** \n",
      " accuracy = 0.9955936548630028, TP = 442,FP = 50, TN = 11985, FN = 5\n",
      " old is -930.442207256492, pt_new is -251.49958459175468, prior_ChsRules=-34.23449247618555, likelihood_1 = -170.25819126567626, likelihood_2 = -47.00690084989287\n",
      " \n",
      "['90.03<=InstanceMEM', '6804.0<=LargestPartitionSize', 'InstanceMEM<95.64', 'LargestPartitionSize<2147474931.0', '161<=SystemID', 'SystemID<2470']\n",
      "['InstanceMEM<95.64', '90.03<=InstanceMEM', '654858.0<=LargestTableSize', 'SystemID<939', 'LargestTableSize<2147474931.0', '10<=SystemID']\n",
      "[717, 76]\n",
      "\n",
      "** chain = 1, max at iter = 6 ** \n",
      " accuracy = 0.9958340009613844, TP = 445,FP = 50, TN = 11985, FN = 2\n",
      " old is -251.3995845917547, pt_new is -227.66308603491507, prior_ChsRules=-34.23449247618555, likelihood_1 = -170.52750182135264, likelihood_2 = -22.901091737376873\n",
      " \n",
      "['90.03<=InstanceMEM', '6804.0<=LargestPartitionSize', 'InstanceMEM<95.64', 'LargestPartitionSize<2147474931.0', '161<=SystemID', 'SystemID<2470']\n",
      "['90.03<=InstanceMEM', '48966040.0<=DeltaSize', '0<=HighPriorityAlerts', 'InstanceMEM<95.64', 'HighPriorityAlerts<19']\n",
      "[717, 1431]\n",
      "\n",
      "** chain = 1, max at iter = 76 ** \n",
      " accuracy = 0.9957538855952571, TP = 444,FP = 50, TN = 11985, FN = 3\n",
      " old is -227.56308603491507, pt_new is -219.1190825348167, prior_ChsRules=-17.47874491949915, likelihood_1 = -170.43788966266334, likelihood_2 = -31.20244795265421\n",
      " \n",
      "['InstanceMEM<95.64', '90.03<=InstanceMEM', '6804.0<=LargestPartitionSize', '0<=HighPriorityAlerts', 'HighPriorityAlerts<19', 'LargestPartitionSize<2147474931.0']\n",
      "[1104]\n",
      "\n",
      "** chain = 1, max at iter = 139 ** \n",
      " accuracy = 0.996074347059766, TP = 446,FP = 48, TN = 11987, FN = 1\n",
      " old is -219.0190825348167, pt_new is -214.07117449270208, prior_ChsRules=-34.23449247618555, likelihood_1 = -165.6419979246823, likelihood_2 = -14.194684091834233\n",
      " \n",
      "['90.03<=InstanceMEM', '0<=MinDailyNumberOfSuccessfulLogBackups', '654858.0<=LargestTableSize', 'InstanceMEM<95.64', 'LargestTableSize<2147474931.0']\n",
      "['90.03<=InstanceMEM', '106471906.0<=DiagnosisFilesSize', 'InstanceMEM<97.67', '0<=HighPriorityAlerts', 'HighPriorityAlerts<19']\n",
      "[1075, 1281]\n",
      "\n",
      "** chain = 1, max at iter = 154 ** \n",
      " accuracy = 0.9958340009613844, TP = 445,FP = 50, TN = 11985, FN = 2\n",
      " old is -213.9711744927021, pt_new is -210.90733847822867, prior_ChsRules=-17.47874491949915, likelihood_1 = -170.52750182135264, likelihood_2 = -22.901091737376873\n",
      " \n",
      "['90.03<=InstanceMEM', '0<=MinDailyNumberOfSuccessfulLogBackups', '0<=HighPriorityAlerts', 'InstanceMEM<95.64', 'HighPriorityAlerts<19']\n",
      "[1291]\n",
      "F1_score =  0.9710894443218003\n"
     ]
    }
   ],
   "source": [
    "import ruleset\n",
    "\n",
    "warnings.filterwarnings(\"ignore\")\n",
    "\n",
    "subset_size = dataset.shape[0]//2\n",
    "\n",
    "dataset2 = dataset[:subset_size].copy(deep=True)\n",
    "dataset2.dropna(axis=0, subset=['Check2'], inplace=True)\n",
    "features2 = pd.DataFrame()\n",
    "labels2 = pd.DataFrame()\n",
    "\n",
    "features2 = dataset2.iloc[: , 0:31]\n",
    "labels2 = dataset2.iloc[: , 31:]\n",
    "\n",
    "X_train2, X_test2, y_train2, y_test2 = train_test_split(features2, labels2['Check2'], test_size=0.9)\n",
    "\n",
    "BRS_model_2 = ruleset.BayesianRuleSet(method='forest')\n",
    "BRS_model_2.fit(X_train2, y_train2.astype('int64').values)\n",
    "\n",
    "y_pred2 = BRS_model_2.predict(X_test2)\n",
    "f1_score_2 = f1_score(y_test2, y_pred2, average='macro')\n",
    "print('F1_score = ',f1_score_2)\n",
    "del dataset2\n",
    "del features2\n",
    "del labels2"
   ]
  },
  {
   "cell_type": "markdown",
   "metadata": {},
   "source": [
    "<div class=\"alert alert-block alert-info\">\n",
    " <h5>Check 3</h5>\n",
    "</div>"
   ]
  },
  {
   "cell_type": "code",
   "execution_count": 38,
   "metadata": {},
   "outputs": [
    {
     "name": "stdout",
     "output_type": "stream",
     "text": [
      "\n",
      "** chain = 1, max at iter = 0 ** \n",
      " accuracy = 0.9861155957378108, TP = 79,FP = 0, TN = 6029, FN = 86\n",
      " old is -999999999.9, pt_new is -472.5508260948842, prior_ChsRules=-17.47874491949915, likelihood_1 = -0.5822156198527182, likelihood_2 = -454.48986555553233\n",
      " \n",
      "['PhysMEM<99.36', '95.01<=PhysMEM', 'DiagnosisFilesSize<41074445010.0', '34827429.0<=DiagnosisFilesSize', 'InstanceMEM<68.6', '14.8<=InstanceMEM']\n",
      "[643]\n",
      "\n",
      "** chain = 1, max at iter = 1 ** \n",
      " accuracy = 0.9904746528898934, TP = 122,FP = 16, TN = 6013, FN = 43\n",
      " old is -472.4508260948842, pt_new is -349.01669615121284, prior_ChsRules=-34.23449247618555, likelihood_1 = -57.16646005859627, likelihood_2 = -257.615743616431\n",
      " \n",
      "['PhysMEM<99.36', '95.01<=PhysMEM', 'DiagnosisFilesSize<41074445010.0', '34827429.0<=DiagnosisFilesSize', 'InstanceMEM<68.6', '14.8<=InstanceMEM']\n",
      "['95.01<=PhysMEM', '70873651.0<=DeltaSize', '35060<=index', 'index<74720', 'PhysMEM<99.36']\n",
      "[643, 1202]\n",
      "\n",
      "** chain = 1, max at iter = 2 ** \n",
      " accuracy = 0.9896674200839523, TP = 136,FP = 35, TN = 5994, FN = 29\n",
      " old is -348.9166961512128, pt_new is -322.3968272835041, prior_ChsRules=-34.23449247618555, likelihood_1 = -102.5014783914346, likelihood_2 = -185.66085641588393\n",
      " \n",
      "['95.01<=PhysMEM', '70873651.0<=DeltaSize', '35060<=index', 'index<74720', 'PhysMEM<99.36']\n",
      "['95.01<=PhysMEM', 'SystemID<503', '3<=SystemID', 'PhysMEM<99.36', 'DaysWithSuccessfulDataBackups<8', '0<=DaysWithSuccessfulDataBackups']\n",
      "[1202, 743]\n",
      "\n",
      "** chain = 1, max at iter = 3 ** \n",
      " accuracy = 0.9919276719405876, TP = 163,FP = 48, TN = 5981, FN = 2\n",
      " old is -322.29682728350406, pt_new is -203.40163995783223, prior_ChsRules=-50.584774787625065, likelihood_1 = -131.97591595906601, likelihood_2 = -20.84094921114115\n",
      " \n",
      "['95.01<=PhysMEM', '70873651.0<=DeltaSize', '35060<=index', 'index<74720', 'PhysMEM<99.36']\n",
      "['95.01<=PhysMEM', 'SystemID<503', '3<=SystemID', 'PhysMEM<99.36', 'DaysWithSuccessfulDataBackups<8', '0<=DaysWithSuccessfulDataBackups']\n",
      "['PhysMEM<99.36', '95.01<=PhysMEM', 'index<54560', '987147.0<=LargestTableSize', '2077<=index', 'LargestTableSize<2133421313.0']\n",
      "[1202, 743, 533]\n",
      "\n",
      "** chain = 1, max at iter = 7 ** \n",
      " accuracy = 0.9919276719405876, TP = 161,FP = 46, TN = 5983, FN = 4\n",
      " old is -203.30163995783224, pt_new is -197.90950156515873, prior_ChsRules=-34.23449247618555, likelihood_1 = -127.8903232132377, likelihood_2 = -35.78468587573548\n",
      " \n",
      "['95.01<=PhysMEM', '70873651.0<=DeltaSize', '35060<=index', 'index<74720', 'PhysMEM<99.36']\n",
      "['PhysMEM<99.36', '95.01<=PhysMEM', 'index<54560', '987147.0<=LargestTableSize', '2077<=index', 'LargestTableSize<2133421313.0']\n",
      "[1202, 533]\n",
      "\n",
      "** chain = 1, max at iter = 10 ** \n",
      " accuracy = 0.9953180497255408, TP = 152,FP = 16, TN = 6013, FN = 13\n",
      " old is -197.80950156515874, pt_new is -188.39799354251886, prior_ChsRules=-34.23449247618555, likelihood_1 = -59.25153872344572, likelihood_2 = -94.91196234288759\n",
      " \n",
      "['PhysMEM<99.36', '95.01<=PhysMEM', '33070<=SessionNumber', '987147.0<=LargestTableSize', 'SessionNumber<70253', 'LargestTableSize<2133421313.0']\n",
      "['95.01<=PhysMEM', 'DiagnosisFiles<4508.0', '10.0<=DiagnosisFiles', 'PhysMEM<99.36', '987147.0<=LargestTableSize', 'LargestTableSize<2133421313.0']\n",
      "[1321, 308]\n",
      "\n",
      "** chain = 1, max at iter = 11 ** \n",
      " accuracy = 0.9958023894091056, TP = 141,FP = 2, TN = 6027, FN = 24\n",
      " old is -188.29799354251887, pt_new is -187.31773536032347, prior_ChsRules=-17.47874491949915, likelihood_1 = -11.168478736439738, likelihood_2 = -158.67051170438458\n",
      " \n",
      "['95.01<=PhysMEM', 'DiagnosisFiles<4508.0', '10.0<=DiagnosisFiles', 'PhysMEM<99.36', '987147.0<=LargestTableSize', 'LargestTableSize<2133421313.0']\n",
      "[308]\n",
      "\n",
      "** chain = 1, max at iter = 56 ** \n",
      " accuracy = 0.992089118501776, TP = 163,FP = 47, TN = 5982, FN = 2\n",
      " old is -187.21773536032347, pt_new is -185.1832589633632, prior_ChsRules=-34.23449247618555, likelihood_1 = -130.10732405779459, likelihood_2 = -20.84144242938305\n",
      " \n",
      "['PhysMEM<99.36', '95.01<=PhysMEM', '70873651.0<=DeltaSize', '987147.0<=LargestTableSize', 'LargestTableSize<2133421313.0']\n",
      "['PhysMEM<99.36', '95.01<=PhysMEM', 'SystemID<503', '3<=SystemID', 'DaysWithSuccessfulDataBackups<8', '0<=DaysWithSuccessfulDataBackups']\n",
      "[1362, 743]\n",
      "\n",
      "** chain = 1, max at iter = 63 ** \n",
      " accuracy = 0.9919276719405876, TP = 162,FP = 47, TN = 5982, FN = 3\n",
      " old is -185.0832589633632, pt_new is -175.87425332971543, prior_ChsRules=-17.47874491949915, likelihood_1 = -129.93909626407662, likelihood_2 = -28.456412146139655\n",
      " \n",
      "['PhysMEM<99.36', '95.01<=PhysMEM', '0<=HighPriorityAlerts', '987147.0<=LargestTableSize', 'HighPriorityAlerts<18', 'LargestTableSize<2133421313.0']\n",
      "[2361]\n",
      "F1_score =  0.922648659412874\n"
     ]
    }
   ],
   "source": [
    "import ruleset\n",
    "\n",
    "warnings.filterwarnings(\"ignore\")\n",
    "\n",
    "subset_size = dataset.shape[0]//4\n",
    "\n",
    "dataset3 = dataset[:subset_size].copy(deep=True)\n",
    "dataset3.dropna(axis=0, subset=['Check3'], inplace=True)\n",
    "features3 = pd.DataFrame()\n",
    "labels3 = pd.DataFrame()\n",
    "\n",
    "features3 = dataset3.iloc[: , 0:31]\n",
    "labels3 = dataset3.iloc[: , 31:]\n",
    "\n",
    "X_train3, X_test3, y_train3, y_test3 = train_test_split(features3, labels3['Check3'], test_size=0.9)\n",
    "\n",
    "BRS_model_3 = ruleset.BayesianRuleSet(method='forest')\n",
    "BRS_model_3.fit(X_train3, y_train3.astype('int64').values)\n",
    "\n",
    "y_pred3 = BRS_model_3.predict(X_test3)\n",
    "f1_score_3 = f1_score(y_test3, y_pred3, average='macro')\n",
    "print('F1_score = ',f1_score_3)\n",
    "del dataset3\n",
    "del features3\n",
    "del labels3"
   ]
  },
  {
   "cell_type": "markdown",
   "metadata": {},
   "source": [
    "<div class=\"alert alert-block alert-info\">\n",
    " <h5>Check 4</h5>\n",
    "</div>"
   ]
  },
  {
   "cell_type": "code",
   "execution_count": 82,
   "metadata": {},
   "outputs": [
    {
     "name": "stdout",
     "output_type": "stream",
     "text": [
      "\n",
      "** chain = 1, max at iter = 0 ** \n",
      " accuracy = 0.9349813748730105, TP = 191,FP = 30, TN = 5331, FN = 354\n",
      " old is -999999999.9, pt_new is -1447.725880483628, prior_ChsRules=-17.47874491949915, likelihood_1 = -98.15447867474904, likelihood_2 = -1332.09265688938\n",
      " \n",
      "['86.97<=InstanceMEM', '123261689.0<=LargestPartitionSize', '0.0<=DiagnosisFiles', 'InstanceMEM<92.38', 'LargestPartitionSize<2147483645.0']\n",
      "[351]\n",
      "\n",
      "** chain = 1, max at iter = 1 ** \n",
      " accuracy = 0.9918726718591263, TP = 533,FP = 36, TN = 5325, FN = 12\n",
      " old is -1447.6258804836282, pt_new is -260.81554040112087, prior_ChsRules=-34.23449247618555, likelihood_1 = -139.37501443731776, likelihood_2 = -87.20603348761756\n",
      " \n",
      "['86.97<=InstanceMEM', '123261689.0<=LargestPartitionSize', '0.0<=DiagnosisFiles', 'InstanceMEM<92.38', 'LargestPartitionSize<2147483645.0']\n",
      "['90.02<=IndexServerAllocationLimit', '616<=index', '27080093.0<=LargestPartitionSize', 'IndexServerAllocationLimit<98.09', 'index<74766', 'LargestPartitionSize<2147483645.0']\n",
      "[351, 1540]\n",
      "\n",
      "** chain = 1, max at iter = 2 ** \n",
      " accuracy = 0.9964442939383678, TP = 533,FP = 9, TN = 5352, FN = 12\n",
      " old is -260.71554040112085, pt_new is -151.91769090260777, prior_ChsRules=-17.47874491949915, likelihood_1 = -47.168443603003425, likelihood_2 = -87.2705023801052\n",
      " \n",
      "['90.02<=IndexServerAllocationLimit', '616<=index', '27080093.0<=LargestPartitionSize', 'IndexServerAllocationLimit<98.09', 'index<74766', 'LargestPartitionSize<2147483645.0']\n",
      "[1540]\n",
      "\n",
      "** chain = 1, max at iter = 4 ** \n",
      " accuracy = 0.9971215712834406, TP = 537,FP = 9, TN = 5352, FN = 8\n",
      " old is -151.81769090260778, pt_new is -143.69595311047442, prior_ChsRules=-34.23449247618555, likelihood_1 = -47.23099393510961, likelihood_2 = -62.23046669917926\n",
      " \n",
      "['90.02<=IndexServerAllocationLimit', '616<=index', '27080093.0<=LargestPartitionSize', 'IndexServerAllocationLimit<98.09', 'index<74766', 'LargestPartitionSize<2147483645.0']\n",
      "['90.02<=IndexServerAllocationLimit', '0<=HighPriorityAlerts', '27080093.0<=LargestPartitionSize', 'HighPriorityAlerts<16', 'IndexServerAllocationLimit<98.09', 'LargestPartitionSize<2147483645.0']\n",
      "[1540, 580]\n",
      "\n",
      "** chain = 1, max at iter = 6 ** \n",
      " accuracy = 0.9969522519471724, TP = 536,FP = 9, TN = 5352, FN = 9\n",
      " old is -143.59595311047443, pt_new is -133.33276723816743, prior_ChsRules=-17.47874491949915, likelihood_1 = -47.215392994666445, likelihood_2 = -68.63862932400184\n",
      " \n",
      "['90.02<=IndexServerAllocationLimit', '0<=HighPriorityAlerts', '27080093.0<=LargestPartitionSize', 'HighPriorityAlerts<16', 'IndexServerAllocationLimit<98.09', 'LargestPartitionSize<2147483645.0']\n",
      "[580]\n",
      "F1_score =  0.9883878905162442\n"
     ]
    }
   ],
   "source": [
    "import ruleset\n",
    "\n",
    "warnings.filterwarnings(\"ignore\")\n",
    "\n",
    "subset_size = dataset.shape[0]//4\n",
    "\n",
    "dataset4 = dataset[:subset_size].copy(deep=True)\n",
    "dataset4.dropna(axis=0, subset=['Check4'], inplace=True)\n",
    "features4 = pd.DataFrame()\n",
    "labels4 = pd.DataFrame()\n",
    "\n",
    "features4 = dataset4.iloc[: , 0:31]\n",
    "labels4 = dataset4.iloc[: , 31:]\n",
    "\n",
    "X_train4, X_test4, y_train4, y_test4 = train_test_split(features4, labels4['Check4'], test_size=0.9)\n",
    "\n",
    "BRS_model_4 = ruleset.BayesianRuleSet(method='forest')\n",
    "BRS_model_4.fit(X_train4, y_train4.astype('int64').values)\n",
    "\n",
    "y_pred4 = BRS_model_4.predict(X_test4)\n",
    "f1_score_4 = f1_score(y_test4, y_pred4, average='macro')\n",
    "print('F1_score = ',f1_score_4)\n",
    "del dataset4\n",
    "del features4\n",
    "del labels4"
   ]
  },
  {
   "cell_type": "markdown",
   "metadata": {},
   "source": [
    "<div class=\"alert alert-block alert-info\">\n",
    " <h5>Check 5</h5>\n",
    "</div>"
   ]
  },
  {
   "cell_type": "code",
   "execution_count": 37,
   "metadata": {},
   "outputs": [
    {
     "name": "stdout",
     "output_type": "stream",
     "text": [
      "\n",
      "** chain = 1, max at iter = 0 ** \n",
      " accuracy = 0.9898964595858384, TP = 0,FP = 0, TN = 11855, FN = 121\n",
      " old is -999999999.9, pt_new is -696.3271091317972, prior_ChsRules=-17.47874491949915, likelihood_1 = 0.0, likelihood_2 = -678.8483642122981\n",
      " \n",
      "[]\n",
      "F1_score =  0.497255245815241\n"
     ]
    }
   ],
   "source": [
    "import ruleset\n",
    "\n",
    "warnings.filterwarnings(\"ignore\")\n",
    "\n",
    "subset_size = dataset.shape[0]//2\n",
    "\n",
    "dataset5 = dataset[:subset_size].copy(deep=True)\n",
    "dataset5.dropna(axis=0, subset=['Check5'], inplace=True)\n",
    "features5 = pd.DataFrame()\n",
    "labels5 = pd.DataFrame()\n",
    "\n",
    "features5 = dataset5.iloc[: , 0:31]\n",
    "labels5 = dataset5.iloc[: , 31:]\n",
    "\n",
    "X_train5, X_test5, y_train5, y_test5 = train_test_split(features5, labels5['Check5'], test_size=0.9)\n",
    "\n",
    "BRS_model_5 = ruleset.BayesianRuleSet(method='forest')\n",
    "BRS_model_5.fit(X_train5, y_train5.astype('int64').values)\n",
    "\n",
    "y_pred5 = BRS_model_5.predict(X_test5)\n",
    "f1_score_5 = f1_score(y_test5, y_pred5, average='macro')\n",
    "print('F1_score = ',f1_score_5)\n",
    "del dataset5\n",
    "del features5\n",
    "del labels5"
   ]
  },
  {
   "cell_type": "markdown",
   "metadata": {},
   "source": [
    "<div class=\"alert alert-block alert-info\">\n",
    " <h5>Check 6</h5>\n",
    "</div>"
   ]
  },
  {
   "cell_type": "code",
   "execution_count": 85,
   "metadata": {},
   "outputs": [
    {
     "name": "stdout",
     "output_type": "stream",
     "text": [
      "F1_score =  0.9590812976469789\n"
     ]
    }
   ],
   "source": [
    "import ruleset\n",
    "\n",
    "warnings.filterwarnings(\"ignore\")\n",
    "\n",
    "subset_size = dataset.shape[0]//4\n",
    "\n",
    "dataset6 = dataset[:subset_size].copy(deep=True)\n",
    "dataset6.dropna(axis=0, subset=['Check6'], inplace=True)\n",
    "features6 = pd.DataFrame()\n",
    "labels6 = pd.DataFrame()\n",
    "\n",
    "features6 = dataset6.iloc[: , 0:31]\n",
    "labels6 = dataset6.iloc[: , 31:]\n",
    "\n",
    "X_train6, X_test6, y_train6, y_test6 = train_test_split(features6, labels6['Check6'], test_size=0.9)\n",
    "\n",
    "BRS_model_6 = ruleset.BayesianRuleSet(method='forest')\n",
    "BRS_model_6.fit(X_train6, y_train6.astype('int64').values)\n",
    "\n",
    "y_pred_6 = BRS_model_6.predict(X_test6)\n",
    "f1_score_6 = f1_score(y_test6, y_pred_6, average='macro')\n",
    "print('F1_score = ',f1_score_6)\n",
    "del dataset6\n",
    "del features6\n",
    "del labels6"
   ]
  },
  {
   "cell_type": "markdown",
   "metadata": {},
   "source": [
    "<div class=\"alert alert-block alert-info\">\n",
    " <h5>Check 7</h5>\n",
    "</div>"
   ]
  },
  {
   "cell_type": "code",
   "execution_count": 38,
   "metadata": {},
   "outputs": [
    {
     "name": "stdout",
     "output_type": "stream",
     "text": [
      "\n",
      "** chain = 1, max at iter = 0 ** \n",
      " accuracy = 0.9731682146542827, TP = 0,FP = 0, TN = 12259, FN = 338\n",
      " old is -999999999.9, pt_new is -1577.5525718609958, prior_ChsRules=-17.47874491949915, likelihood_1 = 0.0, likelihood_2 = -1560.0738269414967\n",
      " \n",
      "[]\n",
      "F1_score =  0.4931399679015767\n"
     ]
    }
   ],
   "source": [
    "import ruleset\n",
    "\n",
    "warnings.filterwarnings(\"ignore\")\n",
    "\n",
    "subset_size = dataset.shape[0]//2\n",
    "\n",
    "dataset7 = dataset[:subset_size].copy(deep=True)\n",
    "dataset7.dropna(axis=0, subset=['Check7'], inplace=True)\n",
    "features7 = pd.DataFrame()\n",
    "labels7 = pd.DataFrame()\n",
    "\n",
    "features7 = dataset7.iloc[: , 0:31]\n",
    "labels7 = dataset7.iloc[: , 31:]\n",
    "\n",
    "X_train7, X_test7, y_train7, y_test7 = train_test_split(features7, labels7['Check7'], test_size=0.9)\n",
    "\n",
    "BRS_model_7 = ruleset.BayesianRuleSet(method='forest')\n",
    "BRS_model_7.fit(X_train7, y_train7.astype('int64').values)\n",
    "\n",
    "y_pred7 = BRS_model_7.predict(X_test7)\n",
    "f1_score_7 = f1_score(y_test7, y_pred7, average='macro')\n",
    "print('F1_score = ',f1_score_7)\n",
    "del dataset7\n",
    "del features7\n",
    "del labels7"
   ]
  },
  {
   "cell_type": "markdown",
   "metadata": {},
   "source": [
    "<div class=\"alert alert-block alert-info\">\n",
    " <h5>Check 8</h5>\n",
    "</div>"
   ]
  },
  {
   "cell_type": "code",
   "execution_count": 39,
   "metadata": {},
   "outputs": [
    {
     "name": "stdout",
     "output_type": "stream",
     "text": [
      "\n",
      "** chain = 1, max at iter = 0 ** \n",
      " accuracy = 0.9909137918297998, TP = 0,FP = 8, TN = 13414, FN = 115\n",
      " old is -999999999.9, pt_new is -705.5563102209214, prior_ChsRules=-13.70982264270424, likelihood_1 = -26.586969820607067, likelihood_2 = -665.2595177576102\n",
      " \n",
      "['MinDailyNumberOfSuccessfulLogBackups<4701', '36.65<=CPU', 'CPU<76.32', '699<=MinDailyNumberOfSuccessfulLogBackups']\n",
      "[728]\n",
      "\n",
      "** chain = 1, max at iter = 79 ** \n",
      " accuracy = 0.9915047647189186, TP = 0,FP = 0, TN = 13422, FN = 115\n",
      " old is -705.4563102209214, pt_new is -699.5623690915188, prior_ChsRules=-34.23449247618555, likelihood_1 = 0.0, likelihood_2 = -665.3278766153333\n",
      " \n",
      "[]\n",
      "\n",
      "** chain = 1, max at iter = 80 ** \n",
      " accuracy = 0.9915047647189186, TP = 0,FP = 0, TN = 13422, FN = 115\n",
      " old is -699.4623690915188, pt_new is -682.8066215348324, prior_ChsRules=-17.47874491949915, likelihood_1 = 0.0, likelihood_2 = -665.3278766153333\n",
      " \n",
      "[]\n",
      "F1_score =  0.4975523855477336\n"
     ]
    }
   ],
   "source": [
    "import ruleset\n",
    "\n",
    "warnings.filterwarnings(\"ignore\")\n",
    "\n",
    "subset_size = dataset.shape[0]//2\n",
    "\n",
    "dataset8 = dataset[:subset_size].copy(deep=True)\n",
    "dataset8.dropna(axis=0, subset=['Check8'], inplace=True)\n",
    "features8 = pd.DataFrame()\n",
    "labels8 = pd.DataFrame()\n",
    "\n",
    "features8 = dataset8.iloc[: , 0:31]\n",
    "labels8 = dataset8.iloc[: , 31:]\n",
    "\n",
    "X_train8, X_test8, y_train8, y_test8 = train_test_split(features8, labels8['Check8'], test_size=0.9)\n",
    "\n",
    "BRS_model_8 = ruleset.BayesianRuleSet(method='forest')\n",
    "BRS_model_8.fit(X_train8, y_train8.astype('int64').values)\n",
    "\n",
    "y_pred8 = BRS_model_8.predict(X_test8)\n",
    "f1_score_8 = f1_score(y_test8, y_pred8, average='macro')\n",
    "print('F1_score = ',f1_score_8)\n",
    "del dataset8\n",
    "del features8\n",
    "del labels8"
   ]
  },
  {
   "cell_type": "markdown",
   "metadata": {},
   "source": [
    "<div class=\"alert alert-block alert-info\">\n",
    " <h5>Check 9</h5>\n",
    "</div>"
   ]
  },
  {
   "cell_type": "code",
   "execution_count": 38,
   "metadata": {},
   "outputs": [
    {
     "name": "stdout",
     "output_type": "stream",
     "text": [
      "\n",
      "** chain = 1, max at iter = 0 ** \n",
      " accuracy = 0.9196336238735412, TP = 0,FP = 0, TN = 6225, FN = 544\n",
      " old is -999999999.9, pt_new is -1918.953357963687, prior_ChsRules=-17.47874491949915, likelihood_1 = 0.0, likelihood_2 = -1901.474613044188\n",
      " \n",
      "[]\n",
      "\n",
      "** chain = 1, max at iter = 1 ** \n",
      " accuracy = 0.9859654306396809, TP = 511,FP = 62, TN = 6163, FN = 33\n",
      " old is -1918.8533579636871, pt_new is -430.92303944588866, prior_ChsRules=-17.47874491949915, likelihood_1 = -205.77242151783116, likelihood_2 = -207.67187300855835\n",
      " \n",
      "['90.01<=IndexServerAllocationLimit', '1502065.0<=LargestPartitionSize', 'IndexServerAllocationLimit<98.36', 'LargestPartitionSize<2147483595.0', 'InstanceMEM<97.86', '40.14<=InstanceMEM']\n",
      "[1222]\n",
      "\n",
      "** chain = 1, max at iter = 4 ** \n",
      " accuracy = 0.9920224553109765, TP = 497,FP = 7, TN = 6218, FN = 47\n",
      " old is -430.82303944588864, pt_new is -351.1119858654247, prior_ChsRules=-34.23449247618555, likelihood_1 = -38.05171134812758, likelihood_2 = -278.82578204111155\n",
      " \n",
      "['90.01<=IndexServerAllocationLimit', '21.0<=DiagnosisFiles', '0<=HighPriorityAlerts', 'IndexServerAllocationLimit<98.36', 'HighPriorityAlerts<17']\n",
      "[54]\n",
      "\n",
      "** chain = 1, max at iter = 105 ** \n",
      " accuracy = 0.9926133845472005, TP = 515,FP = 21, TN = 6204, FN = 29\n",
      " old is -351.01198586542466, pt_new is -344.98393981729896, prior_ChsRules=-66.64737516184687, likelihood_1 = -91.66168844031677, likelihood_2 = -186.67487621513533\n",
      " \n",
      "['90.01<=IndexServerAllocationLimit', '35926906.0<=DiagnosisFilesSize', '1502065.0<=LargestPartitionSize', 'IndexServerAllocationLimit<98.36', 'LargestPartitionSize<2147483595.0', 'DiagnosisFilesSize<480000000000.0']\n",
      "['88.53<=InstanceMEM', 'InstanceMEM<97.86', '11542900.0<=LargestTableSize', 'LargestPartitionSize<663184135.0', '1502065.0<=LargestPartitionSize', 'LargestTableSize<2147483595.0']\n",
      "['90.01<=IndexServerAllocationLimit', '35926906.0<=DiagnosisFilesSize', '0<=HighPriorityAlerts', 'IndexServerAllocationLimit<98.36', 'DiagnosisFilesSize<114000000000.0', 'HighPriorityAlerts<17']\n",
      "['90.01<=IndexServerAllocationLimit', '21.0<=DiagnosisFiles', 'DiagnosisFiles<11396.0', 'IndexServerAllocationLimit<98.36', 'CPU<37.03', '0.0<=CPU']\n",
      "[1408, 1239, 426, 316]\n",
      "\n",
      "** chain = 1, max at iter = 117 ** \n",
      " accuracy = 0.9878859506574088, TP = 542,FP = 80, TN = 6145, FN = 2\n",
      " old is -344.88393981729894, pt_new is -321.70700418768183, prior_ChsRules=-50.584774787625065, likelihood_1 = -250.20145717870741, likelihood_2 = -20.920772221349353\n",
      " \n",
      "['88.53<=InstanceMEM', '21.0<=DiagnosisFiles', 'InstanceMEM<97.86', '12.25<=TablesAllocation', 'DiagnosisFiles<11396.0', 'TablesAllocation<87.37']\n",
      "['90.01<=IndexServerAllocationLimit', 'DiagnosisFilesSize<114000000000.0', '35926906.0<=DiagnosisFilesSize', '0<=HighPriorityAlerts', 'IndexServerAllocationLimit<98.36', 'HighPriorityAlerts<17']\n",
      "['90.01<=IndexServerAllocationLimit', '0<=MinDailyNumberOfSuccessfulLogBackups', 'IndexServerAllocationLimit<98.36', 'InstanceMEM<97.86', '0.0<=InstanceMEM', 'MinDailyNumberOfSuccessfulLogBackups<2070']\n",
      "[700, 426, 576]\n",
      "\n",
      "** chain = 1, max at iter = 151 ** \n",
      " accuracy = 0.9875904860392968, TP = 541,FP = 81, TN = 6144, FN = 3\n",
      " old is -321.6070041876818, pt_new is -315.0660661714578, prior_ChsRules=-34.23449247618555, likelihood_1 = -252.27003748095535, likelihood_2 = -28.561536214316902\n",
      " \n",
      "['88.53<=InstanceMEM', '35926906.0<=DiagnosisFilesSize', 'InstanceMEM<97.86', '11542900.0<=LargestTableSize', 'LargestTableSize<2147483595.0', 'DiagnosisFilesSize<480000000000.0']\n",
      "['90.01<=IndexServerAllocationLimit', '1502065.0<=LargestPartitionSize', '180<=index', 'IndexServerAllocationLimit<98.36', 'index<74785', 'LargestPartitionSize<2147483595.0']\n",
      "[821, 61]\n",
      "\n",
      "** chain = 1, max at iter = 167 ** \n",
      " accuracy = 0.9878859506574088, TP = 542,FP = 80, TN = 6145, FN = 2\n",
      " old is -314.9660661714578, pt_new is -305.3567218762423, prior_ChsRules=-34.23449247618555, likelihood_1 = -250.20145717870741, likelihood_2 = -20.920772221349353\n",
      " \n",
      "['90.01<=IndexServerAllocationLimit', '1502065.0<=LargestPartitionSize', '180<=index', 'IndexServerAllocationLimit<98.36', 'index<74785', 'LargestPartitionSize<2147483595.0']\n",
      "['88.53<=InstanceMEM', 'DiagnosisFiles<11396.0', '21.0<=DiagnosisFiles', 'InstanceMEM<97.86', '12.25<=TablesAllocation', 'TablesAllocation<87.37']\n",
      "[61, 700]\n",
      "F1_score =  0.957561886756291\n"
     ]
    }
   ],
   "source": [
    "import ruleset\n",
    "\n",
    "warnings.filterwarnings(\"ignore\")\n",
    "\n",
    "subset_size = dataset.shape[0]//4\n",
    "\n",
    "dataset9 = dataset[:subset_size].copy(deep=True)\n",
    "features9 = pd.DataFrame()\n",
    "labels9 = pd.DataFrame()\n",
    "\n",
    "features9 = dataset9.iloc[: , 0:31]\n",
    "labels9 = dataset9.iloc[: , 31:]\n",
    "\n",
    "X_train9, X_test9, y_train9, y_test9 = train_test_split(features9, labels9['Check9'], test_size=0.9)\n",
    "\n",
    "BRS_model_9 = ruleset.BayesianRuleSet(method='forest')\n",
    "BRS_model_9.fit(X_train9, y_train9.astype('int64').values)\n",
    "\n",
    "y_pred9 = BRS_model_9.predict(X_test9)\n",
    "f1_score_9 = f1_score(y_test9, y_pred9, average='macro')\n",
    "print('F1_score = ',f1_score_9)\n",
    "del dataset9\n",
    "del features9\n",
    "del labels9"
   ]
  },
  {
   "cell_type": "markdown",
   "metadata": {},
   "source": [
    "<div class=\"alert alert-block alert-info\">\n",
    " <h5>Check 10</h5>\n",
    "</div>"
   ]
  },
  {
   "cell_type": "code",
   "execution_count": 36,
   "metadata": {},
   "outputs": [
    {
     "name": "stdout",
     "output_type": "stream",
     "text": [
      "\n",
      "** chain = 1, max at iter = 0 ** \n",
      " accuracy = 0.8116413059536121, TP = 966,FP = 4, TN = 4528, FN = 1271\n",
      " old is -999999999.9, pt_new is -3118.0059940208994, prior_ChsRules=-17.47874491949915, likelihood_1 = -27.084486697692, likelihood_2 = -3073.442762403708\n",
      " \n",
      "['150.0<=DiagnosisFiles', '43.92<=IndexServerAllocationLimit', 'IndexServerAllocationLimit<96.12', '0<=HighPriorityAlerts']\n",
      "[3052]\n",
      "\n",
      "** chain = 1, max at iter = 1 ** \n",
      " accuracy = 0.8896439651351751, TP = 1506,FP = 16, TN = 4516, FN = 731\n",
      " old is -3117.9059940208995, pt_new is -2257.402075256119, prior_ChsRules=-34.23449247618555, likelihood_1 = -90.2928958263335, likelihood_2 = -2132.8746869536\n",
      " \n",
      "['150.0<=DiagnosisFiles', '43.92<=IndexServerAllocationLimit', 'IndexServerAllocationLimit<96.12', '0<=HighPriorityAlerts']\n",
      "['150.0<=DiagnosisFiles', '0.0<=DiagnosisFilesSize', 'TablesAllocation<54.13', '0.0<=TablesAllocation']\n",
      "[3052, 654]\n",
      "\n",
      "** chain = 1, max at iter = 3 ** \n",
      " accuracy = 0.9157925838380854, TP = 1812,FP = 145, TN = 4387, FN = 425\n",
      " old is -2257.302075256119, pt_new is -2020.5941133170086, prior_ChsRules=-50.584774787625065, likelihood_1 = -523.9234704974449, likelihood_2 = -1446.0858680319386\n",
      " \n",
      "['150.0<=DiagnosisFiles', '0.0<=DiagnosisFilesSize', 'TablesAllocation<54.13', '0.0<=TablesAllocation']\n",
      "['IndexServerAllocationLimit<96.12', '85.01<=IndexServerAllocationLimit', '1<=HighPriorityAlerts', '52987.0<=LargestTableSize', 'LargestTableSize<2147483595.0']\n",
      "[654, 457]\n",
      "\n",
      "** chain = 1, max at iter = 65 ** \n",
      " accuracy = 0.9194858915644851, TP = 1836,FP = 144, TN = 4388, FN = 401\n",
      " old is -2020.4941133170087, pt_new is -2007.989334210129, prior_ChsRules=-98.14396696825861, likelihood_1 = -523.0154757044427, likelihood_2 = -1386.8298915374278\n",
      " \n",
      "['85.01<=IndexServerAllocationLimit', 'IndexServerAllocationLimit<96.12', '1<=HighPriorityAlerts', '52987.0<=LargestTableSize', 'LargestTableSize<2147483595.0']\n",
      "['150.0<=DiagnosisFiles', '0.0<=DiagnosisFilesSize', 'LargestPartitionSize<666083160.0', '6804.0<=LargestPartitionSize']\n",
      "['150.0<=DiagnosisFiles', 'PhysMEM<98.37', '59.44<=PhysMEM', '0<=HighPriorityAlerts']\n",
      "['150.0<=DiagnosisFiles', '0<=HighPriorityAlerts', 'HighPriorityAlerts<9', '6804.0<=LargestPartitionSize', 'LargestPartitionSize<2147483595.0']\n",
      "[457, 834, 1788, 2145]\n",
      "F1_score =  0.9034359582821643\n"
     ]
    }
   ],
   "source": [
    "import ruleset\n",
    "\n",
    "warnings.filterwarnings(\"ignore\")\n",
    "\n",
    "subset_size = dataset.shape[0]//4\n",
    "\n",
    "dataset10 = dataset[:subset_size].copy(deep=True)\n",
    "features10 = pd.DataFrame()\n",
    "labels10 = pd.DataFrame()\n",
    "\n",
    "features10 = dataset10.iloc[: , 0:31]\n",
    "labels10 = dataset10.iloc[: , 31:]\n",
    "\n",
    "X_train10, X_test10, y_train10, y_test10 = train_test_split(features10, labels10['Check10'], test_size=0.9)\n",
    "\n",
    "BRS_model_10 = ruleset.BayesianRuleSet(method='forest')\n",
    "BRS_model_10.fit(X_train10, y_train10.astype('int64').values)\n",
    "\n",
    "y_pred10 = BRS_model_10.predict(X_test10)\n",
    "f1_score_10 = f1_score(y_test10, y_pred10, average='macro')\n",
    "print('F1_score = ',f1_score_10)\n",
    "del dataset10\n",
    "del features10\n",
    "del labels10"
   ]
  },
  {
   "cell_type": "markdown",
   "metadata": {},
   "source": [
    "<div class=\"alert alert-block alert-success\">\n",
    " <h5>Results for the Bayesian Rule Set on each labels. As this is highly computable, we have trained the models on only a proportion of the dataset.</h5>\n",
    " </div>\n",
    " \n",
    "|       Labels      |     Dataset Proportion     |     F1_score     |        \n",
    "|-------------------|--------------------|------------------|\n",
    "|       Check1      |        0.25        |      0.4983      |\n",
    "|       Check1      |        0.5        |      0.9875     |        \n",
    "|       Check2      |        0.25        |      0.4911      |\n",
    "|       Check2      |        0.5        |      0.9710      |\n",
    "|       Check3      |        0.25        |      0.9226      | \n",
    "|       Check4      |        0.25        |      0.9884      | \n",
    "|       Check5      |        0.25        |      0.4979      | \n",
    "|       Check5      |        0.5        |      0.4973      | \n",
    "|       Check6      |        0.25        |        0.9591       | \n",
    "|       Check7      |        0.25        |      0.4927      | \n",
    "|       Check7      |         0.5        |      0.4931      | \n",
    "|       Check8      |        0.25        |      0.4972      |\n",
    "|       Check8      |        0.5        |      0.4975      | \n",
    "|       Check9      |        0.25        |      0.9576      | \n",
    "|       Check10     |        0.25        |        0.9034       | \n",
    "    \n"
   ]
  },
  {
   "cell_type": "markdown",
   "metadata": {},
   "source": [
    "<div class=\"alert alert-block alert-success\">\n",
    "    We have to note that most of these results can be better. Indeed, because of the random initialization of the algorithm, it is possible that it stays stuck in a local minimum because of a bad initialization. Thus, what could have been done is to relaunch the algorithm for each of the check until he does a good initialization and keep this model for that check, but we have not done it for computational costs reasons.\n",
    "</div>"
   ]
  },
  {
   "cell_type": "markdown",
   "metadata": {},
   "source": [
    "<div class=\"alert alert-block alert-info\">\n",
    " <h3>Scalable Bayesian Rule List (SBRL) model</h3>\n",
    "</div>"
   ]
  },
  {
   "cell_type": "code",
   "execution_count": 47,
   "metadata": {},
   "outputs": [
    {
     "name": "stdout",
     "output_type": "stream",
     "text": [
      "Requirement already up-to-date: pysbrl in /mnt/workspace/.local/lib/python3.5/site-packages (0.4.1)\n",
      "\u001b[33mYou are using pip version 19.0.3, however version 19.1.1 is available.\n",
      "You should consider upgrading via the 'pip install --upgrade pip' command.\u001b[0m\n",
      "Collecting mdlp.discretization\n",
      "\u001b[?25l  Downloading https://files.pythonhosted.org/packages/8f/62/5e96d816ba7a57f2ff5ffdc7cfcdaa44c78ad4425179d479f9fbdafbd00d/mdlp_discretization-0.3.2-cp35-cp35m-manylinux1_x86_64.whl (184kB)\n",
      "\u001b[K    100% |################################| 194kB 1.4MB/s \n",
      "\u001b[?25hRequirement already satisfied, skipping upgrade: numpy>=1.11.2 in /usr/local/lib/python3.5/dist-packages (from mdlp.discretization) (1.14.5)\n",
      "Requirement already satisfied, skipping upgrade: scikit-learn>=0.18.1 in /mnt/workspace/.local/lib/python3.5/site-packages (from mdlp.discretization) (0.20.3)\n",
      "Requirement already satisfied, skipping upgrade: scipy>=0.18.1 in /usr/local/lib/python3.5/dist-packages (from mdlp.discretization) (1.1.0)\n",
      "Installing collected packages: mdlp.discretization\n",
      "Successfully installed mdlp.discretization\n",
      "\u001b[33mYou are using pip version 19.0.3, however version 19.1.1 is available.\n",
      "You should consider upgrading via the 'pip install --upgrade pip' command.\u001b[0m\n"
     ]
    }
   ],
   "source": [
    "!pip install 'pysbrl' --user --upgrade\n",
    "!pip install 'mdlp.discretization' --user --upgrade"
   ]
  },
  {
   "cell_type": "code",
   "execution_count": 37,
   "metadata": {},
   "outputs": [],
   "source": [
    "from pysbrl import BayesianRuleList\n",
    "from sklearn.model_selection import train_test_split\n",
    "from mdlp.discretization import MDLP\n",
    "\n",
    "def compute_intervals(mdlp_discretizer):\n",
    "    '''\n",
    "    Implemented from the given documentation.\n",
    "    '''\n",
    "    category_names = []\n",
    "    for i, cut_points in enumerate(mdlp_discretizer.cut_points_):\n",
    "        idxs = np.arange(len(cut_points) + 1)\n",
    "        names = mdlp_discretizer.assign_intervals(idxs, i)\n",
    "        category_names.append(names)\n",
    "        \n",
    "    return category_names\n",
    "\n",
    "\n",
    "def test_BayesianRuleList(data, check):\n",
    "    \"\"\"\n",
    "    Train and test our model on a check.\n",
    "    :return: f1_score\n",
    "    \"\"\"\n",
    "    data.dropna(axis=0, subset=['Check'+str(check)], inplace=True)    \n",
    "    data['Check'+str(check)]= data['Check'+str(check)].astype(int)\n",
    "    \n",
    "    feats = pd.DataFrame()\n",
    "    labs = pd.DataFrame()\n",
    "    feats = data.iloc[: , 0:31]\n",
    "    labs = data.iloc[: , 31:]\n",
    "    \n",
    "    x, y = feats, labs['Check'+str(check)]\n",
    "    feature_names = list(feats)\n",
    "    x_train, x_test, y_train, y_test = train_test_split(x, y, test_size=0.25, random_state=42)\n",
    "    discretizer = MDLP(random_state=42).fit(x_train, y_train)\n",
    "    x_train_cat = discretizer.transform(x_train)\n",
    "    x_test_cat = discretizer.transform(x_test)\n",
    "    \n",
    "    #train\n",
    "    category_names = compute_intervals(discretizer)\n",
    "    SBRL_model = BayesianRuleList(seed=1, feature_names=feature_names, category_names=category_names)\n",
    "    SBRL_model.fit(x_train_cat, y_train)\n",
    "    \n",
    "    #print the scores\n",
    "    print('scores for check', check)\n",
    "    print('acc: {:.2f}%'.format(100*SBRL_model.score(x_test_cat, y_test)))\n",
    "    y_pred = SBRL_model.predict(x_test_cat)\n",
    "    f1 = f1_score(y_test, y_pred, average='macro')\n",
    "    print('f1_score: {:.4f}'.format(f1))\n",
    "    \n",
    "    return(f1)"
   ]
  },
  {
   "cell_type": "code",
   "execution_count": 38,
   "metadata": {},
   "outputs": [
    {
     "name": "stdout",
     "output_type": "stream",
     "text": [
      "scores for check 1\n",
      "acc: 99.96%\n",
      "f1_score: 0.9847\n",
      "scores for check 2\n",
      "acc: 99.93%\n",
      "f1_score: 0.9942\n",
      "scores for check 3\n",
      "acc: 99.69%\n",
      "f1_score: 0.9739\n",
      "scores for check 4\n",
      "acc: 99.81%\n",
      "f1_score: 0.9944\n",
      "scores for check 5\n",
      "acc: 99.92%\n",
      "f1_score: 0.9825\n",
      "scores for check 6\n",
      "acc: 99.63%\n",
      "f1_score: 0.9954\n",
      "scores for check 7\n",
      "acc: 97.05%\n",
      "f1_score: 0.5247\n",
      "scores for check 8\n",
      "acc: 99.96%\n",
      "f1_score: 0.9900\n",
      "scores for check 9\n",
      "acc: 99.60%\n",
      "f1_score: 0.9877\n",
      "scores for check 10\n",
      "acc: 96.51%\n",
      "f1_score: 0.9611\n"
     ]
    },
    {
     "data": {
      "text/html": [
       "<div>\n",
       "<style scoped>\n",
       "    .dataframe tbody tr th:only-of-type {\n",
       "        vertical-align: middle;\n",
       "    }\n",
       "\n",
       "    .dataframe tbody tr th {\n",
       "        vertical-align: top;\n",
       "    }\n",
       "\n",
       "    .dataframe thead th {\n",
       "        text-align: right;\n",
       "    }\n",
       "</style>\n",
       "<table border=\"1\" class=\"dataframe\">\n",
       "  <thead>\n",
       "    <tr style=\"text-align: right;\">\n",
       "      <th></th>\n",
       "      <th>F1_score</th>\n",
       "    </tr>\n",
       "  </thead>\n",
       "  <tbody>\n",
       "    <tr>\n",
       "      <th>check6</th>\n",
       "      <td>0.995400</td>\n",
       "    </tr>\n",
       "    <tr>\n",
       "      <th>check5</th>\n",
       "      <td>0.982500</td>\n",
       "    </tr>\n",
       "    <tr>\n",
       "      <th>check4</th>\n",
       "      <td>0.994400</td>\n",
       "    </tr>\n",
       "    <tr>\n",
       "      <th>check3</th>\n",
       "      <td>0.973900</td>\n",
       "    </tr>\n",
       "    <tr>\n",
       "      <th>check2</th>\n",
       "      <td>0.994200</td>\n",
       "    </tr>\n",
       "    <tr>\n",
       "      <th>check10</th>\n",
       "      <td>0.961063</td>\n",
       "    </tr>\n",
       "    <tr>\n",
       "      <th>check1</th>\n",
       "      <td>0.984700</td>\n",
       "    </tr>\n",
       "    <tr>\n",
       "      <th>check7</th>\n",
       "      <td>0.524700</td>\n",
       "    </tr>\n",
       "    <tr>\n",
       "      <th>check9</th>\n",
       "      <td>0.987656</td>\n",
       "    </tr>\n",
       "    <tr>\n",
       "      <th>check8</th>\n",
       "      <td>0.990000</td>\n",
       "    </tr>\n",
       "  </tbody>\n",
       "</table>\n",
       "</div>"
      ],
      "text/plain": [
       "         F1_score\n",
       "check6   0.995400\n",
       "check5   0.982500\n",
       "check4   0.994400\n",
       "check3   0.973900\n",
       "check2   0.994200\n",
       "check10  0.961063\n",
       "check1   0.984700\n",
       "check7   0.524700\n",
       "check9   0.987656\n",
       "check8   0.990000"
      ]
     },
     "metadata": {},
     "output_type": "display_data"
    }
   ],
   "source": [
    "for i in range(9,11):\n",
    "    score = test_BayesianRuleList(dataset, check=i)\n",
    "    dico['check'+str(i)] = score\n",
    "\n",
    "results = pd.DataFrame.from_dict(dico, orient='index', columns=['F1_score'])\n",
    "display(results)"
   ]
  },
  {
   "cell_type": "markdown",
   "metadata": {},
   "source": [
    "<div class=\"alert alert-block alert-success\">\n",
    " <h5>Comparing the results on f1_score of the 2 models.</h5>\n",
    "     </div>\n",
    "\n",
    "|       Labels      |        f1 BRS        |       f1 SBRL      |        \n",
    "|-------------------|----------------------|--------------------|\n",
    "|       Check1      |        0.9875        |        0.9847      |        \n",
    "|       Check2      |        0.9710        |        0.9942      |\n",
    "|       Check3      |        0.9226        |        0.9739      | \n",
    "|       Check4      |        0.9884        |        0.9944      | \n",
    "|       Check5      |        0.4973        |        0.9825      | \n",
    "|       Check6      |        0.9591        |        0.9954      | \n",
    "|       Check7      |        0.4931        |        0.5247      | \n",
    "|       Check8      |        0.4975        |        0.9900      |\n",
    "|       Check9      |        0.9576        |        0.9877      | \n",
    "|       Check10     |        0.9034        |        0.9611      | \n",
    "\n",
    " \n",
    "<div class=\"alert alert-block alert-success\">\n",
    "<h5>The Scalable Bayesian Rule List model is more accurate than the Bayesian Rule Set one. The obtained F1 score are greater, but we still have a low score for Check7.</h5>\n",
    " </div>"
   ]
  },
  {
   "cell_type": "markdown",
   "metadata": {},
   "source": [
    "<div class=\"\">\n",
    "    <h3>4. Parameter Optimisation</h3>\n",
    "</div>"
   ]
  },
  {
   "cell_type": "markdown",
   "metadata": {},
   "source": [
    "Irrespective of your choice, it is highly likely that your model will have one or more parameters that require tuning.\n",
    "There are several techniques for carrying out such a procedure, including cross-validation, Bayesian optimisation, and several others.\n",
    "As before, an analysis into which parameter tuning technique best suits your model is expected before proceeding with the optimisation of your model."
   ]
  },
  {
   "cell_type": "markdown",
   "metadata": {},
   "source": [
    "<div class=\"alert alert-block alert-info\">\n",
    " <h5>Let's explore the optimization of the parameters of the Bayesian Rule Set model.</h5>\n",
    "    We can try to optimize 3 parameters: <b>max_rules</b>, <b>max_iter</b> and <b>maxlen</b>.\n",
    " </div>"
   ]
  },
  {
   "cell_type": "code",
   "execution_count": 2,
   "metadata": {},
   "outputs": [
    {
     "data": {
      "text/html": [
       "<div class=\"progress\">\n",
       "\t<div class=\"progress-bar\" role=\"progressbar\" style=\"width: 12.5%\" aria-valuenow=\"12.5\" aria-valuemin=\"0\" aria-valuemax=\"8\">\n",
       "\t<span>12.50%\t(0.0/0.0 seconds)</span>\n",
       "\t</div>\n",
       "\n",
       "</div>"
      ],
      "text/plain": [
       "<IPython.core.display.HTML object>"
      ]
     },
     "metadata": {},
     "output_type": "display_data"
    },
    {
     "data": {
      "text/html": [
       "<div>\n",
       "<style scoped>\n",
       "    .dataframe tbody tr th:only-of-type {\n",
       "        vertical-align: middle;\n",
       "    }\n",
       "\n",
       "    .dataframe tbody tr th {\n",
       "        vertical-align: top;\n",
       "    }\n",
       "\n",
       "    .dataframe thead th {\n",
       "        text-align: right;\n",
       "    }\n",
       "</style>\n",
       "<table border=\"1\" class=\"dataframe\">\n",
       "  <thead>\n",
       "    <tr style=\"text-align: right;\">\n",
       "      <th></th>\n",
       "      <th>max_rules</th>\n",
       "      <th>max_iter</th>\n",
       "      <th>maxlen</th>\n",
       "      <th>F1 Score</th>\n",
       "      <th>Training time</th>\n",
       "    </tr>\n",
       "  </thead>\n",
       "  <tbody>\n",
       "    <tr>\n",
       "      <th>0</th>\n",
       "      <td>1000.0</td>\n",
       "      <td>50.0</td>\n",
       "      <td>3.0</td>\n",
       "      <td>0.977172</td>\n",
       "      <td>113.430339</td>\n",
       "    </tr>\n",
       "  </tbody>\n",
       "</table>\n",
       "</div>"
      ],
      "text/plain": [
       "   max_rules  max_iter  maxlen  F1 Score  Training time\n",
       "0     1000.0      50.0     3.0  0.977172     113.430339"
      ]
     },
     "metadata": {},
     "output_type": "display_data"
    }
   ],
   "source": [
    "from sklearn.model_selection import ParameterGrid\n",
    "import ruleset\n",
    "\n",
    "hyperparameters = {\n",
    "    'max_rules': [1000, 5000],\n",
    "    'max_iter': [50, 200],\n",
    "    'maxlen': [3, 5]\n",
    "}\n",
    "\n",
    "resultsDF = pd.DataFrame(columns=['max_rules', 'max_iter', 'maxlen', 'F1 Score', 'Training time'])\n",
    "\n",
    "already_done = [\n",
    "    {\n",
    "        'max_rules': 1000,\n",
    "        'max_iter': 50,\n",
    "        'maxlen': 3\n",
    "    }\n",
    "]\n",
    "\n",
    "already_done_results = [\n",
    "    (0.977172, 113.430339)\n",
    "]\n",
    "\n",
    "for i in range(len(already_done)):\n",
    "    temp = already_done[i].copy()\n",
    "    temp['F1 Score'] = already_done_results[i][0]\n",
    "    temp['Training time'] = already_done_results[i][1]\n",
    "    resultsDF = resultsDF.append(temp, ignore_index=True)\n",
    "\n",
    "parameter_grid = list(ParameterGrid(hyperparameters))\n",
    "\n",
    "subset_size = dataset.shape[0]//4\n",
    "\n",
    "dataset1 = dataset.copy(deep=True)\n",
    "dataset1.dropna(axis=0, subset=['Check1'], inplace=True)\n",
    "labels1 = dataset1.iloc[:, 31:]\n",
    "features1 = dataset1.iloc[:, 0:31]\n",
    "\n",
    "X_train, X_test, y_train, y_test = train_test_split(features1, labels1['Check1'], test_size=0.5)\n",
    "\n",
    "progress_bar = ProgressBar(len(parameter_grid))\n",
    "progress_bar.start()\n",
    "\n",
    "for parameter_combination in parameter_grid:\n",
    "    if parameter_combination in already_done:\n",
    "        progress_bar.update()\n",
    "        continue\n",
    "    BRS_model = ruleset.BayesianRuleSet(\n",
    "        max_rules=parameter_combination['max_rules'],\n",
    "        max_iter=parameter_combination['max_iter'],\n",
    "        maxlen=parameter_combination['maxlen']\n",
    "    )\n",
    "    beginning_time = time()\n",
    "    BRS_model.fit(X_train, y_train.astype('int64').values)\n",
    "    y_pred = BRS_model.predict(X_test)\n",
    "    ending_time = time() - beginning_time\n",
    "    parameter_combination['Training time'] = ending_time\n",
    "    parameter_combination['F1 Score'] = f1_score(y_test, y_pred, average='macro')\n",
    "    resultsDF = resultsDF.append(parameter_combination, ignore_index=True)\n",
    "    progress_bar.update()\n",
    "    \n",
    "    display(resultsDF.sort_values('F1 Score', ascending=False))"
   ]
  },
  {
   "cell_type": "markdown",
   "metadata": {},
   "source": [
    "<div class=\"alert alert-warning\" role=\"alert\">\n",
    "    For a reason that we do not know, the kernel shuts down when trying to execute the second parameter combination. Nevertheless, we can observe that the model behaves well even when lowering its parameters. Thus, since it makes us gain computation time, what we want to do is to consider only the parameter combination <b>max_rules = 1000</b>, <b>ax_iter = 50</b> and <b>maxlen=3</b>.\n",
    "</div>"
   ]
  },
  {
   "cell_type": "markdown",
   "metadata": {},
   "source": [
    "<div class=\"\">\n",
    "    <h3>5. Model Evaluation</h3>\n",
    "</div>"
   ]
  },
  {
   "cell_type": "markdown",
   "metadata": {},
   "source": [
    "<div class=\"alert alert-block alert-success\">\n",
    "    The 2 models are capables of dealing with all the dataset in a reasonnable amount of time. They behave well enough to consider the rules they create as at least a warning for the system administrator. Indeed, by monitoring the system to know when an alert is most-likely to come, the system administrator has more chances to prevent it or at least to identify more precisely its origin.\n",
    "</div>"
   ]
  }
 ],
 "metadata": {
  "kernelspec": {
   "display_name": "Python 3",
   "language": "python",
   "name": "python3"
  },
  "language_info": {
   "codemirror_mode": {
    "name": "ipython",
    "version": 3
   },
   "file_extension": ".py",
   "mimetype": "text/x-python",
   "name": "python",
   "nbconvert_exporter": "python",
   "pygments_lexer": "ipython3",
   "version": "3.6.5"
  }
 },
 "nbformat": 4,
 "nbformat_minor": 2
}
